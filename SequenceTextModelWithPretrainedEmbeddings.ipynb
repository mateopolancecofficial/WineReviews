{
  "nbformat": 4,
  "nbformat_minor": 0,
  "metadata": {
    "colab": {
      "name": "SequenceTextModelWithPretrainedEmbeddings.ipynb",
      "provenance": [],
      "authorship_tag": "ABX9TyMzkI9TnFWtJDDx9ff40Xbo",
      "include_colab_link": true
    },
    "kernelspec": {
      "name": "python3",
      "display_name": "Python 3"
    },
    "language_info": {
      "name": "python"
    },
    "accelerator": "GPU"
  },
  "cells": [
    {
      "cell_type": "markdown",
      "metadata": {
        "id": "view-in-github",
        "colab_type": "text"
      },
      "source": [
        "<a href=\"https://colab.research.google.com/github/mateopolancecofficial/WineReviews/blob/main/SequenceTextModelWithPretrainedEmbeddings.ipynb\" target=\"_parent\"><img src=\"https://colab.research.google.com/assets/colab-badge.svg\" alt=\"Open In Colab\"/></a>"
      ]
    },
    {
      "cell_type": "code",
      "metadata": {
        "colab": {
          "base_uri": "https://localhost:8080/"
        },
        "id": "rCMFng5uYcfG",
        "outputId": "ab3a89fb-595f-4a01-c0dc-0f74698bfc4c"
      },
      "source": [
        "pip install -q -U tensorflow-text"
      ],
      "execution_count": 4,
      "outputs": [
        {
          "output_type": "stream",
          "text": [
            "\u001b[K     |████████████████████████████████| 3.4MB 11.5MB/s \n",
            "\u001b[?25h"
          ],
          "name": "stdout"
        }
      ]
    },
    {
      "cell_type": "code",
      "metadata": {
        "colab": {
          "base_uri": "https://localhost:8080/"
        },
        "id": "kc4qw4HVYfK1",
        "outputId": "a61f5ef3-7c83-40a4-8469-b8728ead5c57"
      },
      "source": [
        "pip install -q -U tf-models-official"
      ],
      "execution_count": 5,
      "outputs": [
        {
          "output_type": "stream",
          "text": [
            "\u001b[K     |████████████████████████████████| 1.1MB 11.1MB/s \n",
            "\u001b[K     |████████████████████████████████| 645kB 27.8MB/s \n",
            "\u001b[K     |████████████████████████████████| 358kB 41.9MB/s \n",
            "\u001b[K     |████████████████████████████████| 706kB 40.6MB/s \n",
            "\u001b[K     |████████████████████████████████| 1.2MB 41.5MB/s \n",
            "\u001b[K     |████████████████████████████████| 37.6MB 77kB/s \n",
            "\u001b[K     |████████████████████████████████| 51kB 5.5MB/s \n",
            "\u001b[K     |████████████████████████████████| 102kB 9.8MB/s \n",
            "\u001b[K     |████████████████████████████████| 174kB 42.4MB/s \n",
            "\u001b[?25h  Building wheel for seqeval (setup.py) ... \u001b[?25l\u001b[?25hdone\n",
            "  Building wheel for py-cpuinfo (setup.py) ... \u001b[?25l\u001b[?25hdone\n"
          ],
          "name": "stdout"
        }
      ]
    },
    {
      "cell_type": "code",
      "metadata": {
        "id": "J30_2CpqYwtM",
        "outputId": "c6b72a14-9d4d-47d8-f9a8-b298bed0f53a",
        "colab": {
          "base_uri": "https://localhost:8080/"
        }
      },
      "source": [
        "pip install -q -U keras-tuner"
      ],
      "execution_count": 6,
      "outputs": [
        {
          "output_type": "stream",
          "text": [
            "\u001b[?25l\r\u001b[K     |█████▏                          | 10kB 18.7MB/s eta 0:00:01\r\u001b[K     |██████████▍                     | 20kB 23.3MB/s eta 0:00:01\r\u001b[K     |███████████████▋                | 30kB 17.1MB/s eta 0:00:01\r\u001b[K     |████████████████████▉           | 40kB 15.5MB/s eta 0:00:01\r\u001b[K     |██████████████████████████      | 51kB 12.2MB/s eta 0:00:01\r\u001b[K     |███████████████████████████████▎| 61kB 13.4MB/s eta 0:00:01\r\u001b[K     |████████████████████████████████| 71kB 5.1MB/s \n",
            "\u001b[?25h  Building wheel for keras-tuner (setup.py) ... \u001b[?25l\u001b[?25hdone\n",
            "  Building wheel for terminaltables (setup.py) ... \u001b[?25l\u001b[?25hdone\n"
          ],
          "name": "stdout"
        }
      ]
    },
    {
      "cell_type": "code",
      "metadata": {
        "id": "mgM-UYw2Y0Rz",
        "outputId": "43ac8e9e-0a92-4726-a192-1b4936c34be4",
        "colab": {
          "base_uri": "https://localhost:8080/"
        }
      },
      "source": [
        "!git clone -l -s https://github.com/mateopolancecofficial/WineReviews.git"
      ],
      "execution_count": 7,
      "outputs": [
        {
          "output_type": "stream",
          "text": [
            "Cloning into 'WineReviews'...\n",
            "warning: --local is ignored\n",
            "remote: Enumerating objects: 3, done.\u001b[K\n",
            "remote: Counting objects: 100% (3/3), done.\u001b[K\n",
            "remote: Compressing objects: 100% (2/2), done.\u001b[K\n",
            "remote: Total 3 (delta 0), reused 0 (delta 0), pack-reused 0\u001b[K\n",
            "Unpacking objects: 100% (3/3), done.\n"
          ],
          "name": "stdout"
        }
      ]
    },
    {
      "cell_type": "code",
      "metadata": {
        "id": "7dIF27dxY5lc"
      },
      "source": [
        "import os\n",
        "import pandas as pd\n",
        "import numpy as np\n",
        "import tensorflow as tf\n",
        "import tensorflow_hub as hub\n",
        "import tensorflow_datasets as tfds\n",
        "import tensorflow_text as text\n",
        "import tensorflow_addons as tfa\n",
        "from tensorflow import keras\n",
        "from tensorflow.keras.layers import (\n",
        "    Dense,\n",
        "    Dropout,\n",
        ")\n",
        "import kerastuner as kt\n",
        "from official.nlp import optimization\n",
        "import matplotlib.pyplot as plt\n",
        "from sklearn.model_selection import train_test_split\n",
        "from sklearn.preprocessing import StandardScaler\n",
        "from sklearn.preprocessing import MinMaxScaler\n",
        "\n",
        "tf.get_logger().setLevel('ERROR')\n",
        "os.environ[\"TFHUB_MODEL_LOAD_FORMAT\"]=\"UNCOMPRESSED\""
      ],
      "execution_count": 8,
      "outputs": []
    },
    {
      "cell_type": "code",
      "metadata": {
        "id": "fH5ywvsoY9JL",
        "outputId": "676c9af1-da37-49e7-da24-94432bdf660e",
        "colab": {
          "base_uri": "https://localhost:8080/"
        }
      },
      "source": [
        "import os\n",
        "\n",
        "if tf.test.is_gpu_available():\n",
        "  strategy = tf.distribute.MirroredStrategy()\n",
        "  print('Using GPU')"
      ],
      "execution_count": 9,
      "outputs": [
        {
          "output_type": "stream",
          "text": [
            "Using GPU\n"
          ],
          "name": "stdout"
        }
      ]
    },
    {
      "cell_type": "code",
      "metadata": {
        "id": "4yucc30AY_qL"
      },
      "source": [
        "# set parameters\n",
        "AUTOTUNE = tf.data.AUTOTUNE\n",
        "path_v1 = \"/content/WineReviews/Data/winemag-data-130k-v2.csv\" \n",
        "path_v2 = \"/content/WineReviews/Data/winemag-data_first150k.csv\"\n",
        "checkpoint_path = \"/content/WineReviews/checkpoints/cp-{epoch:04d}.ckpt\"\n",
        "save_model_path = '/content/WineReviews/SavedModels/SequenceModelWeights.h5'\n",
        "batch_size = 1024\n",
        "seed = 42\n",
        "col_idx = 0\n",
        "train_size, test_size, val_size = 0.8, 0.2, 0.2\n",
        "transform = 'normalize'\n",
        "columns = ['description', 'points']"
      ],
      "execution_count": 10,
      "outputs": []
    },
    {
      "cell_type": "code",
      "metadata": {
        "id": "ILACxIvJZSdj"
      },
      "source": [
        "def load_data(path_v1: str, path_v2: str, columns: list, col_idx: int):\n",
        "  \"\"\"\n",
        "  Load and concatenate two datasets with removing duplicates.\n",
        "  param path_v1: import path of first dataset\n",
        "  param path_v2: import path of second dataset\n",
        "  param columns: list of columns to preserve in dataframe\n",
        "  param col_idx: index of column given in input columns list \n",
        "                 on which look for duplicates in dataframe\n",
        "  return:        pandas dataframe\n",
        "  \"\"\"\n",
        "  \n",
        "  df_v1 = pd.read_csv(path_v1, index_col=0)\n",
        "  df_v1 = df_v1[columns]\n",
        "  # remove numbers form column description from first dataframe\n",
        "  df_v1.description = df_v1.description.str.replace('\\d+', '')\n",
        "\n",
        "  df_v2 = pd.read_csv(path_v2, index_col=0)\n",
        "  df_v2 = df_v2[columns]\n",
        "  # remove numbers form column description from second dataframe\n",
        "  df_v2.description = df_v2.description.str.replace('\\d+', '')\n",
        "\n",
        "  df = pd.concat([df_v1, df_v2])\n",
        "\n",
        "  # dropping duplicte values\n",
        "  df.drop_duplicates(subset = columns[col_idx],\n",
        "                       keep = 'first', inplace = True)\n",
        "  \n",
        "  return df"
      ],
      "execution_count": 11,
      "outputs": []
    },
    {
      "cell_type": "code",
      "metadata": {
        "id": "79WpX39XZT9a"
      },
      "source": [
        "def split_data(df: pd.DataFrame, train_size: float, test_size: float, \n",
        "               val_size: float):\n",
        "  \"\"\"\n",
        "  Split dataset on train, test and validation subsets.\n",
        "  param df:          input dataframe\n",
        "  param train_size:  fraction of train size\n",
        "  param test_size:   fraction of test size\n",
        "  param val_size:    fraction of validation size\n",
        "  return:            dictionary, keys=names of dataframes, columns=dataframes\n",
        "  \"\"\"\n",
        "  \n",
        "  # shuffle dataset\n",
        "  df = df.sample(frac = 1)\n",
        "  \n",
        "  # split on test and train set\n",
        "  text_train, text_test, y_train, y_test = train_test_split(df.description, df.points,\n",
        "                                           test_size=test_size, train_size=train_size)\n",
        "  \n",
        "  y_train, y_test = y_train.astype('float'), y_test.astype('float')\n",
        "  \n",
        "  # split train set on train and validation subsets\n",
        "  text_train, text_val, y_train, y_val = train_test_split(text_train, y_train,\n",
        "                                                  test_size=val_size, train_size=train_size)\n",
        "  \n",
        "  y_train, y_val = y_train.astype('float'), y_val.astype('float')\n",
        "\n",
        "  y_train = y_train.to_numpy().reshape(-1, 1)\n",
        "  y_val = y_val.to_numpy().reshape(-1, 1)\n",
        "  y_test = y_test.to_numpy().reshape(-1, 1)\n",
        "\n",
        "  # apply target variable transformation\n",
        "  if transform == 'normalize':\n",
        "    scaler = MinMaxScaler()\n",
        "    scaler.fit(y_train)\n",
        "    y_train = scaler.transform(y_train)\n",
        "    y_val = scaler.transform(y_val)\n",
        "    y_test = scaler.transform(y_test)\n",
        "    \n",
        "  elif transform == 'standardize':\n",
        "    scaler = StandardScaler()\n",
        "    scaler.fit(y_train)\n",
        "    y_train = scaler.transform(y_train)\n",
        "    y_val = scaler.transform(y_val)\n",
        "    y_test = scaler.transform(y_test)\n",
        "    \n",
        "  else:\n",
        "    scaler = MinMaxScaler()\n",
        "    scaler.fit(y_train)\n",
        "    y_train = scaler.transform(y_train)\n",
        "    y_val = scaler.transform(y_val)\n",
        "    y_test = scaler.transform(y_test)\n",
        "  \n",
        "  y_train, y_val, y_test = y_train.ravel(), y_val.ravel(), y_test.ravel()\n",
        "\n",
        "  dataset_dict = {\n",
        "      'text_train': text_train,\n",
        "      'y_train': y_train,\n",
        "      'text_val': text_val,\n",
        "      'y_val': y_val,\n",
        "      'text_test': text_test,\n",
        "      'y_test': y_test,\n",
        "      'scaler': scaler\n",
        "  }\n",
        "\n",
        "  return dataset_dict"
      ],
      "execution_count": 12,
      "outputs": []
    },
    {
      "cell_type": "code",
      "metadata": {
        "id": "RfV1cWm-bxM9"
      },
      "source": [
        "def create_input_datasets(df_data: dict):\n",
        "  \"\"\"\n",
        "  Create tensorflow datasets based on input dataframes for train, validation \n",
        "  and test subsets.\n",
        "  param df_data: dictionary, keys=names of dataframes, columns=dataframes\n",
        "  return:        dictionary, keys=names of datasets, columns=datasets\n",
        "  \"\"\"\n",
        "\n",
        "  # create train dataset for input in tensorflow model\n",
        "  train_dataset = tf.data.Dataset.from_tensor_slices((df_data['text_train'], \n",
        "                                                      df_data['y_train']))\n",
        "  train_dataset = train_dataset.batch(batch_size)\n",
        "  train_ds = train_dataset.cache().prefetch(buffer_size=AUTOTUNE)\n",
        "\n",
        "  # create validation dataset for input in tensorflow model\n",
        "  val_dataset = tf.data.Dataset.from_tensor_slices((df_data['text_val'], \n",
        "                                                    df_data['y_val']))\n",
        "  val_dataset = val_dataset.batch(batch_size)\n",
        "  val_ds = val_dataset.cache().prefetch(buffer_size=AUTOTUNE)\n",
        "\n",
        "  # create validation dataset for input in tensorflow model\n",
        "  test_dataset = tf.data.Dataset.from_tensor_slices((df_data['text_test'], \n",
        "                                                     df_data['y_test']))\n",
        "  test_dataset = test_dataset.batch(batch_size)\n",
        "  test_ds = test_dataset.cache().prefetch(buffer_size=AUTOTUNE)\n",
        "\n",
        "  datasets = {\n",
        "      'train_dataset': train_dataset,\n",
        "      'val_dataset': val_dataset,\n",
        "      'test_dataset': test_dataset\n",
        "  } \n",
        "\n",
        "  return datasets"
      ],
      "execution_count": 13,
      "outputs": []
    },
    {
      "cell_type": "code",
      "metadata": {
        "id": "R9dLjdu7ZXnT"
      },
      "source": [
        "# define loss functions\n",
        "from tensorflow.keras import backend as K\n",
        "\n",
        "def rmse():\n",
        "  def root_mean_squared_error(y_true, y_pred):\n",
        "        return K.sqrt(K.mean(K.square(y_pred - y_true))) \n",
        "  return root_mean_squared_error\n",
        "\n",
        "def rmsle():\n",
        "  def root_mean_squared_log_error(y_true, y_pred):\n",
        "    return K.sqrt(K.mean(K.square(K.log(1+y_pred) - K.log(1+y_true))))\n",
        "  return root_mean_squared_log_error"
      ],
      "execution_count": 14,
      "outputs": []
    },
    {
      "cell_type": "code",
      "metadata": {
        "id": "HVeRo6EUZZfr"
      },
      "source": [
        "# disable eager execution\n",
        "tf.config.run_functions_eagerly(False)\n",
        "\n",
        "def model_builder(hp):\n",
        "  # use pretrained embeddings for input layer\n",
        "  hub_model = \"https://tfhub.dev/google/nnlm-en-dim128-with-normalization/2\"\n",
        "  # 'trainable=True' - boolean controlling whether this layer is trainable\n",
        "  hub_layer = hub.KerasLayer(hub_model, input_shape=[], dtype=tf.string, \n",
        "                             trainable=True)\n",
        "  model = tf.keras.Sequential()\n",
        "  model.add(hub_layer)\n",
        "  hp_units_1 = hp.Int('units_1', min_value=64, max_value=128, step=16)\n",
        "  activation=hp.Choice(\n",
        "        'dense_activation',\n",
        "        values=['relu', 'tanh', 'sigmoid'],\n",
        "        default='relu'\n",
        "    )\n",
        "  model.add(Dense(units=hp_units_1, activation=activation))\n",
        "  model.add(\n",
        "            Dropout(rate=hp.Float(\n",
        "                'dropout_1',\n",
        "                min_value=0.1,\n",
        "                max_value=0.5,\n",
        "                default=0.25,\n",
        "                step=0.1,\n",
        "            ))\n",
        "        )\n",
        "  hp_units_2 = hp.Int('units_2', min_value=8, max_value=64, step=16)\n",
        "  model.add(Dense(units=hp_units_2, activation=activation))\n",
        "  model.add(\n",
        "            Dropout(rate=hp.Float(\n",
        "                'dropout_2',\n",
        "                min_value=0.1,\n",
        "                max_value=0.5,\n",
        "                default=0.25,\n",
        "                step=0.1,\n",
        "            ))\n",
        "        )\n",
        "  model.add(Dense(1))\n",
        "\n",
        "  hp_learning_rate = hp.Choice('learning_rate', values=[1e-2, 1e-3, 1e-4])\n",
        "  \n",
        "  model.compile(optimizer=keras.optimizers.Adam(learning_rate=hp_learning_rate),\n",
        "              loss=rmse(),\n",
        "              metrics=['mean_absolute_error'])\n",
        "\n",
        "  return model\n"
      ],
      "execution_count": 15,
      "outputs": []
    },
    {
      "cell_type": "code",
      "metadata": {
        "id": "ffM4P-CbZbeb"
      },
      "source": [
        "# call data transformation functions\n",
        "df = load_data(path_v1, path_v2, columns, col_idx)\n",
        "df_data = split_data(df, train_size, test_size, val_size)\n",
        "datasets = create_input_datasets(df_data)"
      ],
      "execution_count": 17,
      "outputs": []
    },
    {
      "cell_type": "code",
      "metadata": {
        "id": "7LDzLVF6ajqk"
      },
      "source": [
        "# define early stop callback to prevent overfitting\n",
        "stop_early = tf.keras.callbacks.EarlyStopping(monitor='val_loss', patience=15)"
      ],
      "execution_count": 18,
      "outputs": []
    },
    {
      "cell_type": "code",
      "metadata": {
        "id": "3KIvjybUZirz"
      },
      "source": [
        "tuner = kt.Hyperband(model_builder,\n",
        "                     objective='mean_absolute_error',\n",
        "                     max_epochs=5,\n",
        "                     directory='SequenceTextPretrained'\n",
        "                    )\n",
        "                    "
      ],
      "execution_count": 19,
      "outputs": []
    },
    {
      "cell_type": "code",
      "metadata": {
        "id": "rH1opPePat0f",
        "outputId": "c9c90c12-170c-45fb-c2a6-6dee159d9a67",
        "colab": {
          "base_uri": "https://localhost:8080/"
        }
      },
      "source": [
        "tuner.search(df_data['text_train'], df_data['y_train'], \n",
        "             validation_data=(df_data['text_val'], df_data['y_val']), \n",
        "             epochs=5, callbacks=[stop_early])\n",
        "\n",
        "# Get the optimal hyperparameters\n",
        "best_hps=tuner.get_best_hyperparameters(num_trials=1)[0]"
      ],
      "execution_count": 20,
      "outputs": [
        {
          "output_type": "stream",
          "text": [
            "Trial 10 Complete [00h 31m 32s]\n",
            "mean_absolute_error: 0.06893298774957657\n",
            "\n",
            "Best mean_absolute_error So Far: 0.06122862547636032\n",
            "Total elapsed time: 03h 16m 08s\n"
          ],
          "name": "stdout"
        }
      ]
    },
    {
      "cell_type": "code",
      "metadata": {
        "id": "qYLvcPO1auB2"
      },
      "source": [
        "model = tuner.hypermodel.build(best_hps)"
      ],
      "execution_count": 21,
      "outputs": []
    },
    {
      "cell_type": "code",
      "metadata": {
        "id": "ccMHgbyoauO4",
        "outputId": "f98a8056-6a0a-4d22-b828-307521bcb37f",
        "colab": {
          "base_uri": "https://localhost:8080/"
        }
      },
      "source": [
        "# checkpoints callback is not defined because a lack of disk space on Google Colab\n",
        "history = model.fit(datasets['train_dataset'],\n",
        "                    validation_data=datasets['val_dataset'],\n",
        "                    epochs=100,\n",
        "                    callbacks=[stop_early]\n",
        "                    )"
      ],
      "execution_count": 22,
      "outputs": [
        {
          "output_type": "stream",
          "text": [
            "Epoch 1/100\n",
            "106/106 [==============================] - 14s 124ms/step - loss: 0.4300 - mean_absolute_error: 0.3539 - val_loss: 0.1459 - val_mean_absolute_error: 0.1170\n",
            "Epoch 2/100\n",
            "106/106 [==============================] - 14s 128ms/step - loss: 0.1971 - mean_absolute_error: 0.1571 - val_loss: 0.1118 - val_mean_absolute_error: 0.0888\n",
            "Epoch 3/100\n",
            "106/106 [==============================] - 13s 126ms/step - loss: 0.1430 - mean_absolute_error: 0.1135 - val_loss: 0.0972 - val_mean_absolute_error: 0.0770\n",
            "Epoch 4/100\n",
            "106/106 [==============================] - 13s 127ms/step - loss: 0.1238 - mean_absolute_error: 0.0978 - val_loss: 0.0943 - val_mean_absolute_error: 0.0746\n",
            "Epoch 5/100\n",
            "106/106 [==============================] - 13s 127ms/step - loss: 0.1142 - mean_absolute_error: 0.0902 - val_loss: 0.0929 - val_mean_absolute_error: 0.0734\n",
            "Epoch 6/100\n",
            "106/106 [==============================] - 14s 128ms/step - loss: 0.1072 - mean_absolute_error: 0.0847 - val_loss: 0.0916 - val_mean_absolute_error: 0.0724\n",
            "Epoch 7/100\n",
            "106/106 [==============================] - 13s 127ms/step - loss: 0.1022 - mean_absolute_error: 0.0806 - val_loss: 0.0908 - val_mean_absolute_error: 0.0717\n",
            "Epoch 8/100\n",
            "106/106 [==============================] - 14s 128ms/step - loss: 0.0986 - mean_absolute_error: 0.0777 - val_loss: 0.0907 - val_mean_absolute_error: 0.0716\n",
            "Epoch 9/100\n",
            "106/106 [==============================] - 14s 128ms/step - loss: 0.0958 - mean_absolute_error: 0.0757 - val_loss: 0.0900 - val_mean_absolute_error: 0.0710\n",
            "Epoch 10/100\n",
            "106/106 [==============================] - 13s 127ms/step - loss: 0.0940 - mean_absolute_error: 0.0742 - val_loss: 0.0894 - val_mean_absolute_error: 0.0705\n",
            "Epoch 11/100\n",
            "106/106 [==============================] - 13s 127ms/step - loss: 0.0922 - mean_absolute_error: 0.0728 - val_loss: 0.0891 - val_mean_absolute_error: 0.0702\n",
            "Epoch 12/100\n",
            "106/106 [==============================] - 13s 126ms/step - loss: 0.0907 - mean_absolute_error: 0.0715 - val_loss: 0.0885 - val_mean_absolute_error: 0.0697\n",
            "Epoch 13/100\n",
            "106/106 [==============================] - 13s 127ms/step - loss: 0.0893 - mean_absolute_error: 0.0703 - val_loss: 0.0883 - val_mean_absolute_error: 0.0694\n",
            "Epoch 14/100\n",
            "106/106 [==============================] - 13s 127ms/step - loss: 0.0880 - mean_absolute_error: 0.0694 - val_loss: 0.0876 - val_mean_absolute_error: 0.0688\n",
            "Epoch 15/100\n",
            "106/106 [==============================] - 14s 130ms/step - loss: 0.0868 - mean_absolute_error: 0.0682 - val_loss: 0.0873 - val_mean_absolute_error: 0.0686\n",
            "Epoch 16/100\n",
            "106/106 [==============================] - 14s 128ms/step - loss: 0.0853 - mean_absolute_error: 0.0671 - val_loss: 0.0871 - val_mean_absolute_error: 0.0684\n",
            "Epoch 17/100\n",
            "106/106 [==============================] - 14s 128ms/step - loss: 0.0844 - mean_absolute_error: 0.0663 - val_loss: 0.0870 - val_mean_absolute_error: 0.0682\n",
            "Epoch 18/100\n",
            "106/106 [==============================] - 14s 130ms/step - loss: 0.0833 - mean_absolute_error: 0.0653 - val_loss: 0.0868 - val_mean_absolute_error: 0.0681\n",
            "Epoch 19/100\n",
            "106/106 [==============================] - 14s 129ms/step - loss: 0.0821 - mean_absolute_error: 0.0643 - val_loss: 0.0868 - val_mean_absolute_error: 0.0680\n",
            "Epoch 20/100\n",
            "106/106 [==============================] - 14s 128ms/step - loss: 0.0818 - mean_absolute_error: 0.0641 - val_loss: 0.0868 - val_mean_absolute_error: 0.0679\n",
            "Epoch 21/100\n",
            "106/106 [==============================] - 13s 127ms/step - loss: 0.0808 - mean_absolute_error: 0.0634 - val_loss: 0.0870 - val_mean_absolute_error: 0.0681\n",
            "Epoch 22/100\n",
            "106/106 [==============================] - 13s 127ms/step - loss: 0.0803 - mean_absolute_error: 0.0628 - val_loss: 0.0870 - val_mean_absolute_error: 0.0681\n",
            "Epoch 23/100\n",
            "106/106 [==============================] - 13s 127ms/step - loss: 0.0794 - mean_absolute_error: 0.0621 - val_loss: 0.0871 - val_mean_absolute_error: 0.0681\n",
            "Epoch 24/100\n",
            "106/106 [==============================] - 13s 127ms/step - loss: 0.0789 - mean_absolute_error: 0.0617 - val_loss: 0.0872 - val_mean_absolute_error: 0.0681\n",
            "Epoch 25/100\n",
            "106/106 [==============================] - 13s 126ms/step - loss: 0.0783 - mean_absolute_error: 0.0612 - val_loss: 0.0873 - val_mean_absolute_error: 0.0682\n",
            "Epoch 26/100\n",
            "106/106 [==============================] - 14s 129ms/step - loss: 0.0776 - mean_absolute_error: 0.0607 - val_loss: 0.0874 - val_mean_absolute_error: 0.0682\n",
            "Epoch 27/100\n",
            "106/106 [==============================] - 14s 129ms/step - loss: 0.0772 - mean_absolute_error: 0.0603 - val_loss: 0.0876 - val_mean_absolute_error: 0.0683\n",
            "Epoch 28/100\n",
            "106/106 [==============================] - 13s 127ms/step - loss: 0.0767 - mean_absolute_error: 0.0598 - val_loss: 0.0877 - val_mean_absolute_error: 0.0684\n",
            "Epoch 29/100\n",
            "106/106 [==============================] - 14s 128ms/step - loss: 0.0761 - mean_absolute_error: 0.0595 - val_loss: 0.0878 - val_mean_absolute_error: 0.0684\n",
            "Epoch 30/100\n",
            "106/106 [==============================] - 13s 126ms/step - loss: 0.0756 - mean_absolute_error: 0.0590 - val_loss: 0.0880 - val_mean_absolute_error: 0.0686\n",
            "Epoch 31/100\n",
            "106/106 [==============================] - 14s 128ms/step - loss: 0.0753 - mean_absolute_error: 0.0587 - val_loss: 0.0882 - val_mean_absolute_error: 0.0688\n",
            "Epoch 32/100\n",
            "106/106 [==============================] - 14s 128ms/step - loss: 0.0747 - mean_absolute_error: 0.0582 - val_loss: 0.0883 - val_mean_absolute_error: 0.0688\n",
            "Epoch 33/100\n",
            "106/106 [==============================] - 14s 129ms/step - loss: 0.0744 - mean_absolute_error: 0.0579 - val_loss: 0.0884 - val_mean_absolute_error: 0.0689\n",
            "Epoch 34/100\n",
            "106/106 [==============================] - 14s 130ms/step - loss: 0.0739 - mean_absolute_error: 0.0575 - val_loss: 0.0887 - val_mean_absolute_error: 0.0690\n",
            "Epoch 35/100\n",
            "106/106 [==============================] - 14s 130ms/step - loss: 0.0736 - mean_absolute_error: 0.0572 - val_loss: 0.0889 - val_mean_absolute_error: 0.0692\n"
          ],
          "name": "stdout"
        }
      ]
    },
    {
      "cell_type": "code",
      "metadata": {
        "id": "M1E-YT2-a3vA",
        "outputId": "251df3f5-1337-4986-97c1-f076825eac47",
        "colab": {
          "base_uri": "https://localhost:8080/"
        }
      },
      "source": [
        "from sklearn.metrics import mean_absolute_error\n",
        "\n",
        "eval_result = model.predict(df_data['text_test'])\n",
        "y_real = df_data['scaler'].inverse_transform(df_data['y_test'].reshape(-1, 1))\n",
        "y_predict = df_data['scaler'].inverse_transform(eval_result.reshape(-1, 1))\n",
        "\n",
        "mean_absolute_error(y_real, y_predict)"
      ],
      "execution_count": 23,
      "outputs": [
        {
          "output_type": "execute_result",
          "data": {
            "text/plain": [
              "1.3786372378550311"
            ]
          },
          "metadata": {
            "tags": []
          },
          "execution_count": 23
        }
      ]
    },
    {
      "cell_type": "code",
      "metadata": {
        "id": "Sz4Aalhpa39Q",
        "outputId": "3c3018be-e6d6-4f86-ec01-9fab1f4e7426",
        "colab": {
          "base_uri": "https://localhost:8080/"
        }
      },
      "source": [
        "from sklearn.metrics import r2_score\n",
        "\n",
        "r2_score(y_real, y_predict)"
      ],
      "execution_count": 24,
      "outputs": [
        {
          "output_type": "execute_result",
          "data": {
            "text/plain": [
              "0.6840138763299649"
            ]
          },
          "metadata": {
            "tags": []
          },
          "execution_count": 24
        }
      ]
    },
    {
      "cell_type": "code",
      "metadata": {
        "id": "bWDw5u8-bEBC"
      },
      "source": [
        "import matplotlib.pyplot as plt\n",
        "\n",
        "def plot():\n",
        "  \"\"\"\n",
        "  Plot training and validation loss and mean absolute error metric. \n",
        "  \"\"\"\n",
        "\n",
        "  acc = history.history['mean_absolute_error']\n",
        "  val_acc = history.history['val_mean_absolute_error']\n",
        "  loss = history.history['loss']\n",
        "  val_loss = history.history['val_loss']\n",
        "  epochs = range(1, len(acc) + 1)\n",
        "\n",
        "  plt.plot(epochs, acc, 'bo', label='Training acc')\n",
        "  plt.plot(epochs, val_acc, 'b', label='Validation acc')\n",
        "  plt.title('Training and validation mean absolute error metric')\n",
        "  plt.legend()\n",
        "  plt.figure()\n",
        "  plt.plot(epochs, loss, 'bo', label='Training loss')\n",
        "  plt.plot(epochs, val_loss, 'b', label='Validation loss')\n",
        "  plt.title('Training and validation loss')\n",
        "  plt.legend()\n",
        "\n",
        "  plt.show()"
      ],
      "execution_count": 25,
      "outputs": []
    },
    {
      "cell_type": "code",
      "metadata": {
        "id": "gdBjhVU-bEQA",
        "outputId": "f473cdba-7f57-4a03-876e-e572fc8224d1",
        "colab": {
          "base_uri": "https://localhost:8080/",
          "height": 545
        }
      },
      "source": [
        "plot()"
      ],
      "execution_count": 26,
      "outputs": [
        {
          "output_type": "display_data",
          "data": {
            "image/png": "[encoded data removed]",
            "text/plain": [
              "<Figure size 432x288 with 1 Axes>"
            ]
          },
          "metadata": {
            "tags": [],
            "needs_background": "light"
          }
        },
        {
          "output_type": "display_data",
          "data": {
            "image/png": "[encoded data removed]",
            "text/plain": [
              "<Figure size 432x288 with 1 Axes>"
            ]
          },
          "metadata": {
            "tags": [],
            "needs_background": "light"
          }
        }
      ]
    },
    {
      "cell_type": "code",
      "metadata": {
        "id": "q-33nlK1bEfH"
      },
      "source": [
        "model.save(save_model_path)"
      ],
      "execution_count": 27,
      "outputs": []
    },
    {
      "cell_type": "code",
      "metadata": {
        "id": "xFJVXkp0Wkxx"
      },
      "source": [
        ""
      ],
      "execution_count": null,
      "outputs": []
    }
  ]
}
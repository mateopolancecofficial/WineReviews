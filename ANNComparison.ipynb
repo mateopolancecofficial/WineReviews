{
 "cells": [
  {
   "cell_type": "markdown",
   "metadata": {
    "colab_type": "text",
    "id": "view-in-github"
   },
   "source": [
    "<a href=\"https://colab.research.google.com/github/mateopolancecofficial/WineReviews/blob/main/ANNComparison.ipynb\" target=\"_parent\"><img src=\"https://colab.research.google.com/assets/colab-badge.svg\" alt=\"Open In Colab\"/></a>"
   ]
  },
  {
   "cell_type": "code",
   "execution_count": 3,
   "metadata": {
    "colab": {
     "base_uri": "https://localhost:8080/"
    },
    "id": "RUlG4dnFJpJe",
    "outputId": "a31f3865-2284-4b87-9784-3ff5905fd0d1"
   },
   "outputs": [
    {
     "name": "stdout",
     "output_type": "stream",
     "text": [
      "fatal: destination path 'WineReviews' already exists and is not an empty directory.\n"
     ]
    }
   ],
   "source": [
    "!git clone -l -s https://github.com/mateopolancecofficial/WineReviews.git"
   ]
  },
  {
   "cell_type": "code",
   "execution_count": 4,
   "metadata": {
    "colab": {
     "base_uri": "https://localhost:8080/"
    },
    "id": "WumCKdnHJtJx",
    "outputId": "7196ffa1-7d0a-45ec-f1f6-ded977864d60"
   },
   "outputs": [
    {
     "name": "stdout",
     "output_type": "stream",
     "text": [
      "\u001b[?25l\r",
      "\u001b[K     |                                | 10kB 28.6MB/s eta 0:00:01\r",
      "\u001b[K     |▏                               | 20kB 36.3MB/s eta 0:00:01\r",
      "\u001b[K     |▎                               | 30kB 25.6MB/s eta 0:00:01\r",
      "\u001b[K     |▍                               | 40kB 28.5MB/s eta 0:00:01\r",
      "\u001b[K     |▌                               | 51kB 27.8MB/s eta 0:00:01\r",
      "\u001b[K     |▋                               | 61kB 28.9MB/s eta 0:00:01\r",
      "\u001b[K     |▊                               | 71kB 19.4MB/s eta 0:00:01\r",
      "\u001b[K     |▉                               | 81kB 20.0MB/s eta 0:00:01\r",
      "\u001b[K     |▉                               | 92kB 21.4MB/s eta 0:00:01\r",
      "\u001b[K     |█                               | 102kB 22.8MB/s eta 0:00:01\r",
      "\u001b[K     |█                               | 112kB 22.8MB/s eta 0:00:01\r",
      "\u001b[K     |█▏                              | 122kB 22.8MB/s eta 0:00:01\r",
      "\u001b[K     |█▎                              | 133kB 22.8MB/s eta 0:00:01\r",
      "\u001b[K     |█▍                              | 143kB 22.8MB/s eta 0:00:01\r",
      "\u001b[K     |█▌                              | 153kB 22.8MB/s eta 0:00:01\r",
      "\u001b[K     |█▋                              | 163kB 22.8MB/s eta 0:00:01\r",
      "\u001b[K     |█▋                              | 174kB 22.8MB/s eta 0:00:01\r",
      "\u001b[K     |█▊                              | 184kB 22.8MB/s eta 0:00:01\r",
      "\u001b[K     |█▉                              | 194kB 22.8MB/s eta 0:00:01\r",
      "\u001b[K     |██                              | 204kB 22.8MB/s eta 0:00:01\r",
      "\u001b[K     |██                              | 215kB 22.8MB/s eta 0:00:01\r",
      "\u001b[K     |██▏                             | 225kB 22.8MB/s eta 0:00:01\r",
      "\u001b[K     |██▎                             | 235kB 22.8MB/s eta 0:00:01\r",
      "\u001b[K     |██▍                             | 245kB 22.8MB/s eta 0:00:01\r",
      "\u001b[K     |██▍                             | 256kB 22.8MB/s eta 0:00:01\r",
      "\u001b[K     |██▌                             | 266kB 22.8MB/s eta 0:00:01\r",
      "\u001b[K     |██▋                             | 276kB 22.8MB/s eta 0:00:01\r",
      "\u001b[K     |██▊                             | 286kB 22.8MB/s eta 0:00:01\r",
      "\u001b[K     |██▉                             | 296kB 22.8MB/s eta 0:00:01\r",
      "\u001b[K     |███                             | 307kB 22.8MB/s eta 0:00:01\r",
      "\u001b[K     |███                             | 317kB 22.8MB/s eta 0:00:01\r",
      "\u001b[K     |███▏                            | 327kB 22.8MB/s eta 0:00:01\r",
      "\u001b[K     |███▏                            | 337kB 22.8MB/s eta 0:00:01\r",
      "\u001b[K     |███▎                            | 348kB 22.8MB/s eta 0:00:01\r",
      "\u001b[K     |███▍                            | 358kB 22.8MB/s eta 0:00:01\r",
      "\u001b[K     |███▌                            | 368kB 22.8MB/s eta 0:00:01\r",
      "\u001b[K     |███▋                            | 378kB 22.8MB/s eta 0:00:01\r",
      "\u001b[K     |███▊                            | 389kB 22.8MB/s eta 0:00:01\r",
      "\u001b[K     |███▉                            | 399kB 22.8MB/s eta 0:00:01\r",
      "\u001b[K     |████                            | 409kB 22.8MB/s eta 0:00:01\r",
      "\u001b[K     |████                            | 419kB 22.8MB/s eta 0:00:01\r",
      "\u001b[K     |████                            | 430kB 22.8MB/s eta 0:00:01\r",
      "\u001b[K     |████▏                           | 440kB 22.8MB/s eta 0:00:01\r",
      "\u001b[K     |████▎                           | 450kB 22.8MB/s eta 0:00:01\r",
      "\u001b[K     |████▍                           | 460kB 22.8MB/s eta 0:00:01\r",
      "\u001b[K     |████▌                           | 471kB 22.8MB/s eta 0:00:01\r",
      "\u001b[K     |████▋                           | 481kB 22.8MB/s eta 0:00:01\r",
      "\u001b[K     |████▊                           | 491kB 22.8MB/s eta 0:00:01\r",
      "\u001b[K     |████▊                           | 501kB 22.8MB/s eta 0:00:01\r",
      "\u001b[K     |████▉                           | 512kB 22.8MB/s eta 0:00:01\r",
      "\u001b[K     |█████                           | 522kB 22.8MB/s eta 0:00:01\r",
      "\u001b[K     |█████                           | 532kB 22.8MB/s eta 0:00:01\r",
      "\u001b[K     |█████▏                          | 542kB 22.8MB/s eta 0:00:01\r",
      "\u001b[K     |█████▎                          | 552kB 22.8MB/s eta 0:00:01\r",
      "\u001b[K     |█████▍                          | 563kB 22.8MB/s eta 0:00:01\r",
      "\u001b[K     |█████▌                          | 573kB 22.8MB/s eta 0:00:01\r",
      "\u001b[K     |█████▌                          | 583kB 22.8MB/s eta 0:00:01\r",
      "\u001b[K     |█████▋                          | 593kB 22.8MB/s eta 0:00:01\r",
      "\u001b[K     |█████▊                          | 604kB 22.8MB/s eta 0:00:01\r",
      "\u001b[K     |█████▉                          | 614kB 22.8MB/s eta 0:00:01\r",
      "\u001b[K     |██████                          | 624kB 22.8MB/s eta 0:00:01\r",
      "\u001b[K     |██████                          | 634kB 22.8MB/s eta 0:00:01\r",
      "\u001b[K     |██████▏                         | 645kB 22.8MB/s eta 0:00:01\r",
      "\u001b[K     |██████▎                         | 655kB 22.8MB/s eta 0:00:01\r",
      "\u001b[K     |██████▎                         | 665kB 22.8MB/s eta 0:00:01\r",
      "\u001b[K     |██████▍                         | 675kB 22.8MB/s eta 0:00:01\r",
      "\u001b[K     |██████▌                         | 686kB 22.8MB/s eta 0:00:01\r",
      "\u001b[K     |██████▋                         | 696kB 22.8MB/s eta 0:00:01\r",
      "\u001b[K     |██████▊                         | 706kB 22.8MB/s eta 0:00:01\r",
      "\u001b[K     |██████▉                         | 716kB 22.8MB/s eta 0:00:01\r",
      "\u001b[K     |███████                         | 727kB 22.8MB/s eta 0:00:01\r",
      "\u001b[K     |███████                         | 737kB 22.8MB/s eta 0:00:01\r",
      "\u001b[K     |███████                         | 747kB 22.8MB/s eta 0:00:01\r",
      "\u001b[K     |███████▏                        | 757kB 22.8MB/s eta 0:00:01\r",
      "\u001b[K     |███████▎                        | 768kB 22.8MB/s eta 0:00:01\r",
      "\u001b[K     |███████▍                        | 778kB 22.8MB/s eta 0:00:01\r",
      "\u001b[K     |███████▌                        | 788kB 22.8MB/s eta 0:00:01\r",
      "\u001b[K     |███████▋                        | 798kB 22.8MB/s eta 0:00:01\r",
      "\u001b[K     |███████▊                        | 808kB 22.8MB/s eta 0:00:01\r",
      "\u001b[K     |███████▉                        | 819kB 22.8MB/s eta 0:00:01\r",
      "\u001b[K     |███████▉                        | 829kB 22.8MB/s eta 0:00:01\r",
      "\u001b[K     |████████                        | 839kB 22.8MB/s eta 0:00:01\r",
      "\u001b[K     |████████                        | 849kB 22.8MB/s eta 0:00:01\r",
      "\u001b[K     |████████▏                       | 860kB 22.8MB/s eta 0:00:01\r",
      "\u001b[K     |████████▎                       | 870kB 22.8MB/s eta 0:00:01\r",
      "\u001b[K     |████████▍                       | 880kB 22.8MB/s eta 0:00:01\r",
      "\u001b[K     |████████▌                       | 890kB 22.8MB/s eta 0:00:01\r",
      "\u001b[K     |████████▋                       | 901kB 22.8MB/s eta 0:00:01\r",
      "\u001b[K     |████████▋                       | 911kB 22.8MB/s eta 0:00:01\r",
      "\u001b[K     |████████▊                       | 921kB 22.8MB/s eta 0:00:01\r",
      "\u001b[K     |████████▉                       | 931kB 22.8MB/s eta 0:00:01\r",
      "\u001b[K     |█████████                       | 942kB 22.8MB/s eta 0:00:01\r",
      "\u001b[K     |█████████                       | 952kB 22.8MB/s eta 0:00:01\r",
      "\u001b[K     |█████████▏                      | 962kB 22.8MB/s eta 0:00:01\r",
      "\u001b[K     |█████████▎                      | 972kB 22.8MB/s eta 0:00:01\r",
      "\u001b[K     |█████████▍                      | 983kB 22.8MB/s eta 0:00:01\r",
      "\u001b[K     |█████████▌                      | 993kB 22.8MB/s eta 0:00:01\r",
      "\u001b[K     |█████████▌                      | 1.0MB 22.8MB/s eta 0:00:01\r",
      "\u001b[K     |█████████▋                      | 1.0MB 22.8MB/s eta 0:00:01\r",
      "\u001b[K     |█████████▊                      | 1.0MB 22.8MB/s eta 0:00:01\r",
      "\u001b[K     |█████████▉                      | 1.0MB 22.8MB/s eta 0:00:01\r",
      "\u001b[K     |██████████                      | 1.0MB 22.8MB/s eta 0:00:01\r",
      "\u001b[K     |██████████                      | 1.1MB 22.8MB/s eta 0:00:01\r",
      "\u001b[K     |██████████▏                     | 1.1MB 22.8MB/s eta 0:00:01\r",
      "\u001b[K     |██████████▎                     | 1.1MB 22.8MB/s eta 0:00:01\r",
      "\u001b[K     |██████████▎                     | 1.1MB 22.8MB/s eta 0:00:01\r",
      "\u001b[K     |██████████▍                     | 1.1MB 22.8MB/s eta 0:00:01\r",
      "\u001b[K     |██████████▌                     | 1.1MB 22.8MB/s eta 0:00:01\r",
      "\u001b[K     |██████████▋                     | 1.1MB 22.8MB/s eta 0:00:01\r",
      "\u001b[K     |██████████▊                     | 1.1MB 22.8MB/s eta 0:00:01\r",
      "\u001b[K     |██████████▉                     | 1.1MB 22.8MB/s eta 0:00:01\r",
      "\u001b[K     |███████████                     | 1.1MB 22.8MB/s eta 0:00:01\r",
      "\u001b[K     |███████████                     | 1.2MB 22.8MB/s eta 0:00:01\r",
      "\u001b[K     |███████████                     | 1.2MB 22.8MB/s eta 0:00:01\r",
      "\u001b[K     |███████████▏                    | 1.2MB 22.8MB/s eta 0:00:01\r",
      "\u001b[K     |███████████▎                    | 1.2MB 22.8MB/s eta 0:00:01\r",
      "\u001b[K     |███████████▍                    | 1.2MB 22.8MB/s eta 0:00:01\r",
      "\u001b[K     |███████████▌                    | 1.2MB 22.8MB/s eta 0:00:01\r",
      "\u001b[K     |███████████▋                    | 1.2MB 22.8MB/s eta 0:00:01\r",
      "\u001b[K     |███████████▊                    | 1.2MB 22.8MB/s eta 0:00:01\r",
      "\u001b[K     |███████████▉                    | 1.2MB 22.8MB/s eta 0:00:01\r",
      "\u001b[K     |███████████▉                    | 1.2MB 22.8MB/s eta 0:00:01\r",
      "\u001b[K     |████████████                    | 1.3MB 22.8MB/s eta 0:00:01\r",
      "\u001b[K     |████████████                    | 1.3MB 22.8MB/s eta 0:00:01\r",
      "\u001b[K     |████████████▏                   | 1.3MB 22.8MB/s eta 0:00:01\r",
      "\u001b[K     |████████████▎                   | 1.3MB 22.8MB/s eta 0:00:01\r",
      "\u001b[K     |████████████▍                   | 1.3MB 22.8MB/s eta 0:00:01\r",
      "\u001b[K     |████████████▌                   | 1.3MB 22.8MB/s eta 0:00:01\r",
      "\u001b[K     |████████████▋                   | 1.3MB 22.8MB/s eta 0:00:01\r",
      "\u001b[K     |████████████▋                   | 1.3MB 22.8MB/s eta 0:00:01\r",
      "\u001b[K     |████████████▊                   | 1.3MB 22.8MB/s eta 0:00:01\r",
      "\u001b[K     |████████████▉                   | 1.4MB 22.8MB/s eta 0:00:01\r",
      "\u001b[K     |█████████████                   | 1.4MB 22.8MB/s eta 0:00:01\r",
      "\u001b[K     |█████████████                   | 1.4MB 22.8MB/s eta 0:00:01\r",
      "\u001b[K     |█████████████▏                  | 1.4MB 22.8MB/s eta 0:00:01\r",
      "\u001b[K     |█████████████▎                  | 1.4MB 22.8MB/s eta 0:00:01\r",
      "\u001b[K     |█████████████▍                  | 1.4MB 22.8MB/s eta 0:00:01\r",
      "\u001b[K     |█████████████▍                  | 1.4MB 22.8MB/s eta 0:00:01\r",
      "\u001b[K     |█████████████▌                  | 1.4MB 22.8MB/s eta 0:00:01\r",
      "\u001b[K     |█████████████▋                  | 1.4MB 22.8MB/s eta 0:00:01\r",
      "\u001b[K     |█████████████▊                  | 1.4MB 22.8MB/s eta 0:00:01\r",
      "\u001b[K     |█████████████▉                  | 1.5MB 22.8MB/s eta 0:00:01\r",
      "\u001b[K     |██████████████                  | 1.5MB 22.8MB/s eta 0:00:01\r",
      "\u001b[K     |██████████████                  | 1.5MB 22.8MB/s eta 0:00:01\r",
      "\u001b[K     |██████████████▏                 | 1.5MB 22.8MB/s eta 0:00:01\r",
      "\u001b[K     |██████████████▏                 | 1.5MB 22.8MB/s eta 0:00:01\r",
      "\u001b[K     |██████████████▎                 | 1.5MB 22.8MB/s eta 0:00:01\r",
      "\u001b[K     |██████████████▍                 | 1.5MB 22.8MB/s eta 0:00:01\r",
      "\u001b[K     |██████████████▌                 | 1.5MB 22.8MB/s eta 0:00:01\r",
      "\u001b[K     |██████████████▋                 | 1.5MB 22.8MB/s eta 0:00:01\r",
      "\u001b[K     |██████████████▊                 | 1.5MB 22.8MB/s eta 0:00:01\r",
      "\u001b[K     |██████████████▉                 | 1.6MB 22.8MB/s eta 0:00:01\r",
      "\u001b[K     |███████████████                 | 1.6MB 22.8MB/s eta 0:00:01\r",
      "\u001b[K     |███████████████                 | 1.6MB 22.8MB/s eta 0:00:01\r",
      "\u001b[K     |███████████████                 | 1.6MB 22.8MB/s eta 0:00:01\r",
      "\u001b[K     |███████████████▏                | 1.6MB 22.8MB/s eta 0:00:01\r",
      "\u001b[K     |███████████████▎                | 1.6MB 22.8MB/s eta 0:00:01\r",
      "\u001b[K     |███████████████▍                | 1.6MB 22.8MB/s eta 0:00:01\r",
      "\u001b[K     |███████████████▌                | 1.6MB 22.8MB/s eta 0:00:01\r",
      "\u001b[K     |███████████████▋                | 1.6MB 22.8MB/s eta 0:00:01\r",
      "\u001b[K     |███████████████▊                | 1.6MB 22.8MB/s eta 0:00:01\r",
      "\u001b[K     |███████████████▊                | 1.7MB 22.8MB/s eta 0:00:01\r",
      "\u001b[K     |███████████████▉                | 1.7MB 22.8MB/s eta 0:00:01\r",
      "\u001b[K     |████████████████                | 1.7MB 22.8MB/s eta 0:00:01\r",
      "\u001b[K     |████████████████                | 1.7MB 22.8MB/s eta 0:00:01\r",
      "\u001b[K     |████████████████▏               | 1.7MB 22.8MB/s eta 0:00:01\r",
      "\u001b[K     |████████████████▎               | 1.7MB 22.8MB/s eta 0:00:01\r",
      "\u001b[K     |████████████████▍               | 1.7MB 22.8MB/s eta 0:00:01\r",
      "\u001b[K     |████████████████▌               | 1.7MB 22.8MB/s eta 0:00:01\r",
      "\u001b[K     |████████████████▌               | 1.7MB 22.8MB/s eta 0:00:01\r",
      "\u001b[K     |████████████████▋               | 1.8MB 22.8MB/s eta 0:00:01\r",
      "\u001b[K     |████████████████▊               | 1.8MB 22.8MB/s eta 0:00:01\r",
      "\u001b[K     |████████████████▉               | 1.8MB 22.8MB/s eta 0:00:01\r",
      "\u001b[K     |█████████████████               | 1.8MB 22.8MB/s eta 0:00:01\r",
      "\u001b[K     |█████████████████               | 1.8MB 22.8MB/s eta 0:00:01\r",
      "\u001b[K     |█████████████████▏              | 1.8MB 22.8MB/s eta 0:00:01\r",
      "\u001b[K     |█████████████████▎              | 1.8MB 22.8MB/s eta 0:00:01\r",
      "\u001b[K     |█████████████████▎              | 1.8MB 22.8MB/s eta 0:00:01\r",
      "\u001b[K     |█████████████████▍              | 1.8MB 22.8MB/s eta 0:00:01\r",
      "\u001b[K     |█████████████████▌              | 1.8MB 22.8MB/s eta 0:00:01\r",
      "\u001b[K     |█████████████████▋              | 1.9MB 22.8MB/s eta 0:00:01\r",
      "\u001b[K     |█████████████████▊              | 1.9MB 22.8MB/s eta 0:00:01\r",
      "\u001b[K     |█████████████████▉              | 1.9MB 22.8MB/s eta 0:00:01\r",
      "\u001b[K     |██████████████████              | 1.9MB 22.8MB/s eta 0:00:01\r",
      "\u001b[K     |██████████████████              | 1.9MB 22.8MB/s eta 0:00:01\r",
      "\u001b[K     |██████████████████              | 1.9MB 22.8MB/s eta 0:00:01\r",
      "\u001b[K     |██████████████████▏             | 1.9MB 22.8MB/s eta 0:00:01\r",
      "\u001b[K     |██████████████████▎             | 1.9MB 22.8MB/s eta 0:00:01\r",
      "\u001b[K     |██████████████████▍             | 1.9MB 22.8MB/s eta 0:00:01\r",
      "\u001b[K     |██████████████████▌             | 1.9MB 22.8MB/s eta 0:00:01\r",
      "\u001b[K     |██████████████████▋             | 2.0MB 22.8MB/s eta 0:00:01\r",
      "\u001b[K     |██████████████████▊             | 2.0MB 22.8MB/s eta 0:00:01\r",
      "\u001b[K     |██████████████████▉             | 2.0MB 22.8MB/s eta 0:00:01\r",
      "\u001b[K     |███████████████████             | 2.0MB 22.8MB/s eta 0:00:01\r",
      "\u001b[K     |███████████████████             | 2.0MB 22.8MB/s eta 0:00:01\r",
      "\u001b[K     |███████████████████             | 2.0MB 22.8MB/s eta 0:00:01\r",
      "\u001b[K     |███████████████████▏            | 2.0MB 22.8MB/s eta 0:00:01\r",
      "\u001b[K     |███████████████████▎            | 2.0MB 22.8MB/s eta 0:00:01\r",
      "\u001b[K     |███████████████████▍            | 2.0MB 22.8MB/s eta 0:00:01\r",
      "\u001b[K     |███████████████████▌            | 2.0MB 22.8MB/s eta 0:00:01\r",
      "\u001b[K     |███████████████████▋            | 2.1MB 22.8MB/s eta 0:00:01\r",
      "\u001b[K     |███████████████████▊            | 2.1MB 22.8MB/s eta 0:00:01\r",
      "\u001b[K     |███████████████████▊            | 2.1MB 22.8MB/s eta 0:00:01\r",
      "\u001b[K     |███████████████████▉            | 2.1MB 22.8MB/s eta 0:00:01\r",
      "\u001b[K     |████████████████████            | 2.1MB 22.8MB/s eta 0:00:01\r",
      "\u001b[K     |████████████████████            | 2.1MB 22.8MB/s eta 0:00:01\r",
      "\u001b[K     |████████████████████▏           | 2.1MB 22.8MB/s eta 0:00:01\r",
      "\u001b[K     |████████████████████▎           | 2.1MB 22.8MB/s eta 0:00:01\r",
      "\u001b[K     |████████████████████▍           | 2.1MB 22.8MB/s eta 0:00:01\r",
      "\u001b[K     |████████████████████▌           | 2.2MB 22.8MB/s eta 0:00:01\r",
      "\u001b[K     |████████████████████▌           | 2.2MB 22.8MB/s eta 0:00:01\r",
      "\u001b[K     |████████████████████▋           | 2.2MB 22.8MB/s eta 0:00:01\r",
      "\u001b[K     |████████████████████▊           | 2.2MB 22.8MB/s eta 0:00:01\r",
      "\u001b[K     |████████████████████▉           | 2.2MB 22.8MB/s eta 0:00:01\r",
      "\u001b[K     |█████████████████████           | 2.2MB 22.8MB/s eta 0:00:01\r",
      "\u001b[K     |█████████████████████           | 2.2MB 22.8MB/s eta 0:00:01\r",
      "\u001b[K     |█████████████████████▏          | 2.2MB 22.8MB/s eta 0:00:01\r",
      "\u001b[K     |█████████████████████▎          | 2.2MB 22.8MB/s eta 0:00:01\r",
      "\u001b[K     |█████████████████████▎          | 2.2MB 22.8MB/s eta 0:00:01\r",
      "\u001b[K     |█████████████████████▍          | 2.3MB 22.8MB/s eta 0:00:01\r",
      "\u001b[K     |█████████████████████▌          | 2.3MB 22.8MB/s eta 0:00:01\r",
      "\u001b[K     |█████████████████████▋          | 2.3MB 22.8MB/s eta 0:00:01\r",
      "\u001b[K     |█████████████████████▊          | 2.3MB 22.8MB/s eta 0:00:01\r",
      "\u001b[K     |█████████████████████▉          | 2.3MB 22.8MB/s eta 0:00:01\r",
      "\u001b[K     |██████████████████████          | 2.3MB 22.8MB/s eta 0:00:01\r",
      "\u001b[K     |██████████████████████          | 2.3MB 22.8MB/s eta 0:00:01\r",
      "\u001b[K     |██████████████████████          | 2.3MB 22.8MB/s eta 0:00:01\r",
      "\u001b[K     |██████████████████████▏         | 2.3MB 22.8MB/s eta 0:00:01\r",
      "\u001b[K     |██████████████████████▎         | 2.3MB 22.8MB/s eta 0:00:01\r",
      "\u001b[K     |██████████████████████▍         | 2.4MB 22.8MB/s eta 0:00:01\r",
      "\u001b[K     |██████████████████████▌         | 2.4MB 22.8MB/s eta 0:00:01\r",
      "\u001b[K     |██████████████████████▋         | 2.4MB 22.8MB/s eta 0:00:01\r",
      "\u001b[K     |██████████████████████▊         | 2.4MB 22.8MB/s eta 0:00:01\r",
      "\u001b[K     |██████████████████████▉         | 2.4MB 22.8MB/s eta 0:00:01\r",
      "\u001b[K     |██████████████████████▉         | 2.4MB 22.8MB/s eta 0:00:01\r",
      "\u001b[K     |███████████████████████         | 2.4MB 22.8MB/s eta 0:00:01\r",
      "\u001b[K     |███████████████████████         | 2.4MB 22.8MB/s eta 0:00:01\r",
      "\u001b[K     |███████████████████████▏        | 2.4MB 22.8MB/s eta 0:00:01\r",
      "\u001b[K     |███████████████████████▎        | 2.4MB 22.8MB/s eta 0:00:01\r",
      "\u001b[K     |███████████████████████▍        | 2.5MB 22.8MB/s eta 0:00:01\r",
      "\u001b[K     |███████████████████████▌        | 2.5MB 22.8MB/s eta 0:00:01\r",
      "\u001b[K     |███████████████████████▋        | 2.5MB 22.8MB/s eta 0:00:01\r",
      "\u001b[K     |███████████████████████▋        | 2.5MB 22.8MB/s eta 0:00:01\r",
      "\u001b[K     |███████████████████████▊        | 2.5MB 22.8MB/s eta 0:00:01\r",
      "\u001b[K     |███████████████████████▉        | 2.5MB 22.8MB/s eta 0:00:01\r",
      "\u001b[K     |████████████████████████        | 2.5MB 22.8MB/s eta 0:00:01\r",
      "\u001b[K     |████████████████████████        | 2.5MB 22.8MB/s eta 0:00:01\r",
      "\u001b[K     |████████████████████████▏       | 2.5MB 22.8MB/s eta 0:00:01\r",
      "\u001b[K     |████████████████████████▎       | 2.5MB 22.8MB/s eta 0:00:01\r",
      "\u001b[K     |████████████████████████▍       | 2.6MB 22.8MB/s eta 0:00:01\r",
      "\u001b[K     |████████████████████████▍       | 2.6MB 22.8MB/s eta 0:00:01\r",
      "\u001b[K     |████████████████████████▌       | 2.6MB 22.8MB/s eta 0:00:01\r",
      "\u001b[K     |████████████████████████▋       | 2.6MB 22.8MB/s eta 0:00:01\r",
      "\u001b[K     |████████████████████████▊       | 2.6MB 22.8MB/s eta 0:00:01\r",
      "\u001b[K     |████████████████████████▉       | 2.6MB 22.8MB/s eta 0:00:01\r",
      "\u001b[K     |█████████████████████████       | 2.6MB 22.8MB/s eta 0:00:01\r",
      "\u001b[K     |█████████████████████████       | 2.6MB 22.8MB/s eta 0:00:01\r",
      "\u001b[K     |█████████████████████████▏      | 2.6MB 22.8MB/s eta 0:00:01\r",
      "\u001b[K     |█████████████████████████▏      | 2.7MB 22.8MB/s eta 0:00:01\r",
      "\u001b[K     |█████████████████████████▎      | 2.7MB 22.8MB/s eta 0:00:01\r",
      "\u001b[K     |█████████████████████████▍      | 2.7MB 22.8MB/s eta 0:00:01\r",
      "\u001b[K     |█████████████████████████▌      | 2.7MB 22.8MB/s eta 0:00:01\r",
      "\u001b[K     |█████████████████████████▋      | 2.7MB 22.8MB/s eta 0:00:01\r",
      "\u001b[K     |█████████████████████████▊      | 2.7MB 22.8MB/s eta 0:00:01\r",
      "\u001b[K     |█████████████████████████▉      | 2.7MB 22.8MB/s eta 0:00:01\r",
      "\u001b[K     |██████████████████████████      | 2.7MB 22.8MB/s eta 0:00:01\r",
      "\u001b[K     |██████████████████████████      | 2.7MB 22.8MB/s eta 0:00:01\r",
      "\u001b[K     |██████████████████████████      | 2.7MB 22.8MB/s eta 0:00:01\r",
      "\u001b[K     |██████████████████████████▏     | 2.8MB 22.8MB/s eta 0:00:01\r",
      "\u001b[K     |██████████████████████████▎     | 2.8MB 22.8MB/s eta 0:00:01\r",
      "\u001b[K     |██████████████████████████▍     | 2.8MB 22.8MB/s eta 0:00:01\r",
      "\u001b[K     |██████████████████████████▌     | 2.8MB 22.8MB/s eta 0:00:01\r",
      "\u001b[K     |██████████████████████████▋     | 2.8MB 22.8MB/s eta 0:00:01\r",
      "\u001b[K     |██████████████████████████▊     | 2.8MB 22.8MB/s eta 0:00:01\r",
      "\u001b[K     |██████████████████████████▊     | 2.8MB 22.8MB/s eta 0:00:01\r",
      "\u001b[K     |██████████████████████████▉     | 2.8MB 22.8MB/s eta 0:00:01\r",
      "\u001b[K     |███████████████████████████     | 2.8MB 22.8MB/s eta 0:00:01\r",
      "\u001b[K     |███████████████████████████     | 2.8MB 22.8MB/s eta 0:00:01\r",
      "\u001b[K     |███████████████████████████▏    | 2.9MB 22.8MB/s eta 0:00:01\r",
      "\u001b[K     |███████████████████████████▎    | 2.9MB 22.8MB/s eta 0:00:01\r",
      "\u001b[K     |███████████████████████████▍    | 2.9MB 22.8MB/s eta 0:00:01\r",
      "\u001b[K     |███████████████████████████▌    | 2.9MB 22.8MB/s eta 0:00:01\r",
      "\u001b[K     |███████████████████████████▌    | 2.9MB 22.8MB/s eta 0:00:01\r",
      "\u001b[K     |███████████████████████████▋    | 2.9MB 22.8MB/s eta 0:00:01\r",
      "\u001b[K     |███████████████████████████▊    | 2.9MB 22.8MB/s eta 0:00:01\r",
      "\u001b[K     |███████████████████████████▉    | 2.9MB 22.8MB/s eta 0:00:01\r",
      "\u001b[K     |████████████████████████████    | 2.9MB 22.8MB/s eta 0:00:01\r",
      "\u001b[K     |████████████████████████████    | 2.9MB 22.8MB/s eta 0:00:01\r",
      "\u001b[K     |████████████████████████████▏   | 3.0MB 22.8MB/s eta 0:00:01\r",
      "\u001b[K     |████████████████████████████▎   | 3.0MB 22.8MB/s eta 0:00:01\r",
      "\u001b[K     |████████████████████████████▍   | 3.0MB 22.8MB/s eta 0:00:01\r",
      "\u001b[K     |████████████████████████████▍   | 3.0MB 22.8MB/s eta 0:00:01\r",
      "\u001b[K     |████████████████████████████▌   | 3.0MB 22.8MB/s eta 0:00:01\r",
      "\u001b[K     |████████████████████████████▋   | 3.0MB 22.8MB/s eta 0:00:01\r",
      "\u001b[K     |████████████████████████████▊   | 3.0MB 22.8MB/s eta 0:00:01\r",
      "\u001b[K     |████████████████████████████▉   | 3.0MB 22.8MB/s eta 0:00:01\r",
      "\u001b[K     |█████████████████████████████   | 3.0MB 22.8MB/s eta 0:00:01\r",
      "\u001b[K     |█████████████████████████████   | 3.1MB 22.8MB/s eta 0:00:01\r",
      "\u001b[K     |█████████████████████████████▏  | 3.1MB 22.8MB/s eta 0:00:01\r",
      "\u001b[K     |█████████████████████████████▏  | 3.1MB 22.8MB/s eta 0:00:01\r",
      "\u001b[K     |█████████████████████████████▎  | 3.1MB 22.8MB/s eta 0:00:01\r",
      "\u001b[K     |█████████████████████████████▍  | 3.1MB 22.8MB/s eta 0:00:01\r",
      "\u001b[K     |█████████████████████████████▌  | 3.1MB 22.8MB/s eta 0:00:01\r",
      "\u001b[K     |█████████████████████████████▋  | 3.1MB 22.8MB/s eta 0:00:01\r",
      "\u001b[K     |█████████████████████████████▊  | 3.1MB 22.8MB/s eta 0:00:01\r",
      "\u001b[K     |█████████████████████████████▉  | 3.1MB 22.8MB/s eta 0:00:01\r",
      "\u001b[K     |██████████████████████████████  | 3.1MB 22.8MB/s eta 0:00:01\r",
      "\u001b[K     |██████████████████████████████  | 3.2MB 22.8MB/s eta 0:00:01\r",
      "\u001b[K     |██████████████████████████████  | 3.2MB 22.8MB/s eta 0:00:01\r",
      "\u001b[K     |██████████████████████████████▏ | 3.2MB 22.8MB/s eta 0:00:01\r",
      "\u001b[K     |██████████████████████████████▎ | 3.2MB 22.8MB/s eta 0:00:01\r",
      "\u001b[K     |██████████████████████████████▍ | 3.2MB 22.8MB/s eta 0:00:01\r",
      "\u001b[K     |██████████████████████████████▌ | 3.2MB 22.8MB/s eta 0:00:01\r",
      "\u001b[K     |██████████████████████████████▋ | 3.2MB 22.8MB/s eta 0:00:01\r",
      "\u001b[K     |██████████████████████████████▊ | 3.2MB 22.8MB/s eta 0:00:01\r",
      "\u001b[K     |██████████████████████████████▊ | 3.2MB 22.8MB/s eta 0:00:01\r",
      "\u001b[K     |██████████████████████████████▉ | 3.2MB 22.8MB/s eta 0:00:01\r",
      "\u001b[K     |███████████████████████████████ | 3.3MB 22.8MB/s eta 0:00:01\r",
      "\u001b[K     |███████████████████████████████ | 3.3MB 22.8MB/s eta 0:00:01\r",
      "\u001b[K     |███████████████████████████████▏| 3.3MB 22.8MB/s eta 0:00:01\r",
      "\u001b[K     |███████████████████████████████▎| 3.3MB 22.8MB/s eta 0:00:01\r",
      "\u001b[K     |███████████████████████████████▍| 3.3MB 22.8MB/s eta 0:00:01\r",
      "\u001b[K     |███████████████████████████████▌| 3.3MB 22.8MB/s eta 0:00:01\r",
      "\u001b[K     |███████████████████████████████▌| 3.3MB 22.8MB/s eta 0:00:01\r",
      "\u001b[K     |███████████████████████████████▋| 3.3MB 22.8MB/s eta 0:00:01\r",
      "\u001b[K     |███████████████████████████████▊| 3.3MB 22.8MB/s eta 0:00:01\r",
      "\u001b[K     |███████████████████████████████▉| 3.3MB 22.8MB/s eta 0:00:01\r",
      "\u001b[K     |████████████████████████████████| 3.4MB 22.8MB/s eta 0:00:01\r",
      "\u001b[K     |████████████████████████████████| 3.4MB 22.8MB/s \n",
      "\u001b[?25h"
     ]
    }
   ],
   "source": [
    "pip install -q -U tensorflow-text"
   ]
  },
  {
   "cell_type": "code",
   "execution_count": 5,
   "metadata": {
    "colab": {
     "base_uri": "https://localhost:8080/"
    },
    "id": "Xn8lmDLbJzVp",
    "outputId": "cd82f8f9-ccec-4e04-9bae-5f867c6e695b"
   },
   "outputs": [
    {
     "name": "stdout",
     "output_type": "stream",
     "text": [
      "\u001b[?25l\r",
      "\u001b[K     |█████▏                          | 10kB 25.7MB/s eta 0:00:01\r",
      "\u001b[K     |██████████▍                     | 20kB 32.1MB/s eta 0:00:01\r",
      "\u001b[K     |███████████████▋                | 30kB 24.1MB/s eta 0:00:01\r",
      "\u001b[K     |████████████████████▉           | 40kB 27.6MB/s eta 0:00:01\r",
      "\u001b[K     |██████████████████████████      | 51kB 25.6MB/s eta 0:00:01\r",
      "\u001b[K     |███████████████████████████████▎| 61kB 28.0MB/s eta 0:00:01\r",
      "\u001b[K     |████████████████████████████████| 71kB 8.9MB/s \n",
      "\u001b[?25h  Building wheel for keras-tuner (setup.py) ... \u001b[?25l\u001b[?25hdone\n",
      "  Building wheel for terminaltables (setup.py) ... \u001b[?25l\u001b[?25hdone\n"
     ]
    }
   ],
   "source": [
    "pip install -q -U keras-tuner"
   ]
  },
  {
   "cell_type": "code",
   "execution_count": 6,
   "metadata": {
    "colab": {
     "base_uri": "https://localhost:8080/"
    },
    "id": "cNcjJv-cJ1Pn",
    "outputId": "2646fbd2-1a51-4ca4-c146-e135a34bda46"
   },
   "outputs": [
    {
     "name": "stdout",
     "output_type": "stream",
     "text": [
      "\u001b[K     |████████████████████████████████| 1.1MB 19.1MB/s \n",
      "\u001b[K     |████████████████████████████████| 37.6MB 79kB/s \n",
      "\u001b[K     |████████████████████████████████| 174kB 40.9MB/s \n",
      "\u001b[K     |████████████████████████████████| 102kB 13.3MB/s \n",
      "\u001b[K     |████████████████████████████████| 645kB 49.2MB/s \n",
      "\u001b[K     |████████████████████████████████| 51kB 7.4MB/s \n",
      "\u001b[K     |████████████████████████████████| 1.2MB 42.2MB/s \n",
      "\u001b[K     |████████████████████████████████| 358kB 59.8MB/s \n",
      "\u001b[K     |████████████████████████████████| 706kB 37.9MB/s \n",
      "\u001b[?25h  Building wheel for py-cpuinfo (setup.py) ... \u001b[?25l\u001b[?25hdone\n",
      "  Building wheel for seqeval (setup.py) ... \u001b[?25l\u001b[?25hdone\n"
     ]
    }
   ],
   "source": [
    "pip install -q -U tf-models-official"
   ]
  },
  {
   "cell_type": "markdown",
   "metadata": {
    "id": "_HqgoB1BJ9xx"
   },
   "source": [
    "## DNN regressors\n"
   ]
  },
  {
   "cell_type": "markdown",
   "metadata": {
    "id": "8ZNp-lMRiCWc"
   },
   "source": [
    "We will train and compare two following models:\n",
    "\n",
    "1.) RNN model\n",
    "   - The first layer is the encoder, which converts the text to a sequence of token indices.\n",
    "   - After the encoder is an embedding layer. An embedding layer stores one vector per word. When called, it converts the sequences of word indices to sequences of vectors. These vectors are trainable. After training (on enough data), words with similar meanings often have similar vectors.\n",
    "   - A recurrent neural network (RNN) processes sequence input by iterating through the elements. RNNs pass the outputs from one timestep to their input on the next timestep. RNN will convert the sequence to a single vector.\n",
    "   - Add few Dense and Dropout layers for prediction target variable\n",
    "\n",
    "2.) TF HUB model\n",
    "  - Add pretrained model from tensorflow hub for converting text to numerical vector (sequence embeddings)\n",
    "  - pretrained model will be fine tuned during training process\n",
    "  - Add few Dense and Dropout layers for prediction target variable\n",
    "\n",
    "For both models hyperparameters tuning will be made and best parameters will be used in training process.\n",
    "\n",
    "Finally, for comparison mean absolute error and r2_score will be visualized for both models."
   ]
  },
  {
   "cell_type": "code",
   "execution_count": 7,
   "metadata": {
    "id": "OCzkdzq7J3fH"
   },
   "outputs": [],
   "source": [
    "import os\n",
    "import pandas as pd\n",
    "import numpy as np\n",
    "import tensorflow as tf\n",
    "import tensorflow_hub as hub\n",
    "import tensorflow_datasets as tfds\n",
    "import tensorflow_text as text\n",
    "from tensorflow import keras\n",
    "from tensorflow.keras.layers import (\n",
    "    Dense,\n",
    "    Dropout,\n",
    "    Input\n",
    ")\n",
    "import kerastuner as kt\n",
    "from official.nlp import optimization\n",
    "import matplotlib.pyplot as plt\n",
    "from sklearn.model_selection import train_test_split\n",
    "from sklearn.preprocessing import StandardScaler\n",
    "from sklearn.preprocessing import MinMaxScaler\n",
    "\n",
    "tf.get_logger().setLevel('ERROR')\n",
    "os.environ[\"TFHUB_MODEL_LOAD_FORMAT\"]=\"UNCOMPRESSED\"\n"
   ]
  },
  {
   "cell_type": "code",
   "execution_count": 8,
   "metadata": {
    "colab": {
     "base_uri": "https://localhost:8080/"
    },
    "id": "x4T10XKqKD1P",
    "outputId": "4e6d80d7-0bf9-44d6-9e15-55efdf52d76c"
   },
   "outputs": [
    {
     "name": "stdout",
     "output_type": "stream",
     "text": [
      "Using GPU\n"
     ]
    }
   ],
   "source": [
    "import os\n",
    "\n",
    "if tf.test.is_gpu_available():\n",
    "  strategy = tf.distribute.MirroredStrategy()\n",
    "  print('Using GPU')"
   ]
  },
  {
   "cell_type": "markdown",
   "metadata": {
    "id": "I9Kqg6cfKMWA"
   },
   "source": [
    "### Load dataset and set global parameters\n",
    "\n",
    "Before text encoding and generating sequence embeddings we need to load dataset, make train, validation and test splits and load it into tensorflow dataset."
   ]
  },
  {
   "cell_type": "code",
   "execution_count": 9,
   "metadata": {
    "id": "sFeGkAKzKM2n"
   },
   "outputs": [],
   "source": [
    "# set parameters\n",
    "AUTOTUNE = tf.data.AUTOTUNE\n",
    "path_v1 = \"/content/WineReviews/Data/winemag-data-130k-v2.csv\" \n",
    "path_v2 = \"/content/WineReviews/Data/winemag-data_first150k.csv\"\n",
    "batch_size = 2048\n",
    "col_idx = 0\n",
    "train_size, test_size, val_size = 0.8, 0.2, 0.2\n",
    "transform = 'normalize'\n",
    "columns = ['description', 'points']"
   ]
  },
  {
   "cell_type": "code",
   "execution_count": 10,
   "metadata": {
    "id": "x-IAuy9GKQnP"
   },
   "outputs": [],
   "source": [
    "def load_data(path_v1: str, path_v2: str, columns: list, col_idx: int):\n",
    "  \"\"\"\n",
    "  Load and concatenate two datasets with removing duplicates.\n",
    "  param path_v1: import path of first dataset\n",
    "  param path_v2: import path of second dataset\n",
    "  param columns: list of columns to preserve in dataframe\n",
    "  param col_idx: index of column given in input columns list \n",
    "                 on which look for duplicates in dataframe\n",
    "  return:        pandas dataframe\n",
    "  \"\"\"\n",
    "  \n",
    "  df_v1 = pd.read_csv(path_v1, index_col=0)\n",
    "  df_v1 = df_v1[columns]\n",
    "  # remove numbers form column description from first dataframe\n",
    "  df_v1.description = df_v1.description.str.replace('\\d+', '')\n",
    "\n",
    "  df_v2 = pd.read_csv(path_v2, index_col=0)\n",
    "  df_v2 = df_v2[columns]\n",
    "  # remove numbers form column description from second dataframe\n",
    "  df_v2.description = df_v2.description.str.replace('\\d+', '')\n",
    "\n",
    "  df = pd.concat([df_v1, df_v2])\n",
    "\n",
    "  # dropping duplicte values\n",
    "  df.drop_duplicates(subset = columns[col_idx],\n",
    "                       keep = 'first', inplace = True)\n",
    "  \n",
    "  return df"
   ]
  },
  {
   "cell_type": "code",
   "execution_count": 11,
   "metadata": {
    "id": "G-4e-kv_KSUv"
   },
   "outputs": [],
   "source": [
    "def split_data(df: pd.DataFrame, train_size: float, test_size: float, \n",
    "               val_size: float):\n",
    "  \"\"\"\n",
    "  Split dataset on train, test and validation subsets.\n",
    "  param df:          input dataframe\n",
    "  param train_size:  fraction of train size\n",
    "  param test_size:   fraction of test size\n",
    "  param val_size:    fraction of validation size\n",
    "  return:            dictionary, keys=names of dataframes, columns=dataframes\n",
    "  \"\"\"\n",
    "  \n",
    "  # shuffle dataset\n",
    "  df = df.sample(frac = 1)\n",
    "  \n",
    "  # split on test and train set\n",
    "  text_train, text_test, y_train, y_test = train_test_split(df.description, df.points,\n",
    "                                           test_size=test_size, train_size=train_size)\n",
    "  \n",
    "  y_train, y_test = y_train.astype('float'), y_test.astype('float')\n",
    "  \n",
    "  # split train set on train and validation subsets\n",
    "  text_train, text_val, y_train, y_val = train_test_split(text_train, y_train,\n",
    "                                                  test_size=val_size, train_size=train_size)\n",
    "  \n",
    "  y_train, y_val = y_train.astype('float'), y_val.astype('float')\n",
    "\n",
    "  y_train = y_train.to_numpy().reshape(-1, 1)\n",
    "  y_val = y_val.to_numpy().reshape(-1, 1)\n",
    "  y_test = y_test.to_numpy().reshape(-1, 1)\n",
    "\n",
    "  # apply target variable transformation\n",
    "  if transform == 'normalize':\n",
    "    scaler = MinMaxScaler()\n",
    "    scaler.fit(y_train)\n",
    "    y_train = scaler.transform(y_train)\n",
    "    y_val = scaler.transform(y_val)\n",
    "    y_test = scaler.transform(y_test)\n",
    "    \n",
    "  elif transform == 'standardize':\n",
    "    scaler = StandardScaler()\n",
    "    scaler.fit(y_train)\n",
    "    y_train = scaler.transform(y_train)\n",
    "    y_val = scaler.transform(y_val)\n",
    "    y_test = scaler.transform(y_test)\n",
    "    \n",
    "  else:\n",
    "    scaler = MinMaxScaler()\n",
    "    scaler.fit(y_train)\n",
    "    y_train = scaler.transform(y_train)\n",
    "    y_val = scaler.transform(y_val)\n",
    "    y_test = scaler.transform(y_test)\n",
    "  \n",
    "  y_train, y_val, y_test = y_train.ravel(), y_val.ravel(), y_test.ravel()\n",
    "\n",
    "  dataset_dict = {\n",
    "      'text_train': text_train,\n",
    "      'y_train': y_train,\n",
    "      'text_val': text_val,\n",
    "      'y_val': y_val,\n",
    "      'text_test': text_test,\n",
    "      'y_test': y_test,\n",
    "      'scaler': scaler\n",
    "  }\n",
    "\n",
    "  return dataset_dict"
   ]
  },
  {
   "cell_type": "code",
   "execution_count": 12,
   "metadata": {
    "id": "8rLlSmgFKT9I"
   },
   "outputs": [],
   "source": [
    "def create_input_datasets(df_data: dict):\n",
    "  \"\"\"\n",
    "  Create tensorflow datasets based on input dataframes for train, validation \n",
    "  and test subsets.\n",
    "  param df_data: dictionary, keys=names of dataframes, columns=dataframes\n",
    "  return:        dictionary, keys=names of datasets, columns=datasets\n",
    "  \"\"\"\n",
    "\n",
    "  # create train dataset for input in tensorflow model\n",
    "  train_dataset = tf.data.Dataset.from_tensor_slices((df_data['text_train'], \n",
    "                                                      df_data['y_train']))\n",
    "  train_dataset = train_dataset.batch(batch_size)\n",
    "  train_ds = train_dataset.cache().prefetch(buffer_size=AUTOTUNE)\n",
    "\n",
    "  # create validation dataset for input in tensorflow model\n",
    "  val_dataset = tf.data.Dataset.from_tensor_slices((df_data['text_val'], \n",
    "                                                    df_data['y_val']))\n",
    "  val_dataset = val_dataset.batch(batch_size)\n",
    "  val_ds = val_dataset.cache().prefetch(buffer_size=AUTOTUNE)\n",
    "\n",
    "  # create validation dataset for input in tensorflow model\n",
    "  test_dataset = tf.data.Dataset.from_tensor_slices((df_data['text_test'], \n",
    "                                                     df_data['y_test']))\n",
    "  test_dataset = test_dataset.batch(batch_size)\n",
    "  test_ds = test_dataset.cache().prefetch(buffer_size=AUTOTUNE)\n",
    "\n",
    "  datasets = {\n",
    "      'train_dataset': train_dataset,\n",
    "      'val_dataset': val_dataset,\n",
    "      'test_dataset': test_dataset\n",
    "  } \n",
    "\n",
    "  return datasets"
   ]
  },
  {
   "cell_type": "code",
   "execution_count": 14,
   "metadata": {
    "id": "-Umx3EmCKV8f"
   },
   "outputs": [],
   "source": [
    "# call data transformation functions\n",
    "df = load_data(path_v1, path_v2, columns, col_idx)\n",
    "df_data = split_data(df, train_size, test_size, val_size)\n",
    "datasets = create_input_datasets(df_data)"
   ]
  },
  {
   "cell_type": "code",
   "execution_count": 15,
   "metadata": {
    "id": "ICDciZJ4LCOE"
   },
   "outputs": [],
   "source": [
    "# define loss functions\n",
    "from tensorflow.keras import backend as K\n",
    "\n",
    "def rmse():\n",
    "  def root_mean_squared_error(y_true, y_pred):\n",
    "        return K.sqrt(K.mean(K.square(y_pred - y_true))) \n",
    "  return root_mean_squared_error\n",
    "\n",
    "def rmsle():\n",
    "  def root_mean_squared_log_error(y_true, y_pred):\n",
    "    return K.sqrt(K.mean(K.square(K.log(1+y_pred) - K.log(1+y_true))))\n",
    "  return root_mean_squared_log_error"
   ]
  },
  {
   "cell_type": "markdown",
   "metadata": {
    "id": "vF99y_kfKwV-"
   },
   "source": [
    "### RNN model"
   ]
  },
  {
   "cell_type": "markdown",
   "metadata": {
    "id": "u6JxlZi6fDs7"
   },
   "source": [
    "TextVectorization (standardization, tokenization, vectorization)\n",
    "   - Standardization refers to preprocessing the text, typically to remove punctuation or HTML elements to simplify the dataset. Tokenization refers to splitting strings into tokens (for example, splitting a sentence into individual words, by splitting on whitespace). Vectorization refers to converting tokens into numbers so they can be fed into a neural network. All of these tasks can be accomplished with this layer."
   ]
  },
  {
   "cell_type": "code",
   "execution_count": 16,
   "metadata": {
    "id": "MB19Jy66KYPP"
   },
   "outputs": [],
   "source": [
    "VOCAB_SIZE = 1000\n",
    "encoder = tf.keras.layers.experimental.preprocessing.TextVectorization(\n",
    "    max_tokens=VOCAB_SIZE)\n",
    "encoder.adapt(datasets['train_dataset'].map(lambda text, label: text))"
   ]
  },
  {
   "cell_type": "code",
   "execution_count": 17,
   "metadata": {
    "id": "3D_nHOOKLGAA"
   },
   "outputs": [],
   "source": [
    "# disable eager execution\n",
    "tf.config.run_functions_eagerly(False)\n",
    "\n",
    "def rnn_model_builder(hp):\n",
    "  model = tf.keras.Sequential()\n",
    "  model.add(encoder)\n",
    "  model.add(tf.keras.layers.Embedding(\n",
    "        input_dim=len(encoder.get_vocabulary()),\n",
    "        output_dim=64,\n",
    "        # Use masking to handle the variable sequence lengths\n",
    "        mask_zero=True))\n",
    "  model.add(tf.keras.layers.Bidirectional(tf.keras.layers.LSTM(128,  return_sequences=True)))\n",
    "  model.add(tf.keras.layers.Bidirectional(tf.keras.layers.LSTM(64)))\n",
    "  hp_units_1 = hp.Int('units_1', min_value=64, max_value=128, step=16)\n",
    "  activation=hp.Choice(\n",
    "        'dense_activation',\n",
    "        values=['relu', 'tanh', 'sigmoid'],\n",
    "        default='relu'\n",
    "    )\n",
    "  model.add(Dense(units=hp_units_1, activation=activation))\n",
    "  model.add(\n",
    "            Dropout(rate=hp.Float(\n",
    "                'dropout_1',\n",
    "                min_value=0.1,\n",
    "                max_value=0.5,\n",
    "                default=0.25,\n",
    "                step=0.1,\n",
    "            ))\n",
    "        )\n",
    "  hp_units_2 = hp.Int('units_2', min_value=8, max_value=64, step=16)\n",
    "  model.add(Dense(units=hp_units_2, activation=activation))\n",
    "  model.add(\n",
    "            Dropout(rate=hp.Float(\n",
    "                'dropout_2',\n",
    "                min_value=0.1,\n",
    "                max_value=0.5,\n",
    "                default=0.25,\n",
    "                step=0.1,\n",
    "            ))\n",
    "        )\n",
    "  model.add(Dense(1))\n",
    "\n",
    "  hp_learning_rate = hp.Choice('learning_rate', values=[1e-2, 1e-3, 1e-4])\n",
    "  \n",
    "  model.compile(optimizer=keras.optimizers.Adam(learning_rate=hp_learning_rate),\n",
    "              loss=rmse(),\n",
    "              metrics=['mean_absolute_error'])\n",
    "\n",
    "  return model"
   ]
  },
  {
   "cell_type": "code",
   "execution_count": 18,
   "metadata": {
    "id": "DjX2FlZQLKAg"
   },
   "outputs": [],
   "source": [
    "# define early stop callback to prevent overfitting\n",
    "stop_early = tf.keras.callbacks.EarlyStopping(monitor='val_loss', patience=10)"
   ]
  },
  {
   "cell_type": "code",
   "execution_count": 19,
   "metadata": {
    "id": "dB7tljGeLP3g"
   },
   "outputs": [],
   "source": [
    "rnn_tuner = kt.Hyperband(rnn_model_builder,\n",
    "                         objective='mean_absolute_error',\n",
    "                         max_epochs=5,\n",
    "                         directory='RNN'\n",
    "                         )"
   ]
  },
  {
   "cell_type": "code",
   "execution_count": null,
   "metadata": {
    "id": "eV92HLG7LVlq"
   },
   "outputs": [],
   "source": [
    "rnn_tuner.search(df_data['text_train'], df_data['y_train'], \n",
    "                 validation_data=(df_data['text_val'], df_data['y_val']), \n",
    "                 epochs=5, callbacks=[stop_early])\n",
    "\n",
    "# get optimal hyperparameters\n",
    "rnn_best_hps = rnn_tuner.get_best_hyperparameters(num_trials=1)[0]"
   ]
  },
  {
   "cell_type": "code",
   "execution_count": 22,
   "metadata": {
    "id": "T63yNRidLV0Q"
   },
   "outputs": [],
   "source": [
    "rnn_model = rnn_tuner.hypermodel.build(rnn_best_hps)"
   ]
  },
  {
   "cell_type": "code",
   "execution_count": 23,
   "metadata": {
    "colab": {
     "base_uri": "https://localhost:8080/"
    },
    "id": "KcJxi_-tLWAk",
    "outputId": "a91d0ce0-c140-4e84-de37-fe6739be6bd6"
   },
   "outputs": [
    {
     "name": "stdout",
     "output_type": "stream",
     "text": [
      "Epoch 1/100\n",
      "53/53 [==============================] - 30s 297ms/step - loss: 0.2156 - mean_absolute_error: 0.1807 - val_loss: 0.1065 - val_mean_absolute_error: 0.0839\n",
      "Epoch 2/100\n",
      "53/53 [==============================] - 12s 229ms/step - loss: 0.1220 - mean_absolute_error: 0.0960 - val_loss: 0.0966 - val_mean_absolute_error: 0.0760\n",
      "Epoch 3/100\n",
      "53/53 [==============================] - 12s 229ms/step - loss: 0.1115 - mean_absolute_error: 0.0879 - val_loss: 0.0933 - val_mean_absolute_error: 0.0734\n",
      "Epoch 4/100\n",
      "53/53 [==============================] - 12s 230ms/step - loss: 0.1080 - mean_absolute_error: 0.0850 - val_loss: 0.0931 - val_mean_absolute_error: 0.0732\n",
      "Epoch 5/100\n",
      "53/53 [==============================] - 12s 231ms/step - loss: 0.1049 - mean_absolute_error: 0.0826 - val_loss: 0.0937 - val_mean_absolute_error: 0.0735\n",
      "Epoch 6/100\n",
      "53/53 [==============================] - 12s 232ms/step - loss: 0.1031 - mean_absolute_error: 0.0812 - val_loss: 0.0913 - val_mean_absolute_error: 0.0718\n",
      "Epoch 7/100\n",
      "53/53 [==============================] - 12s 232ms/step - loss: 0.1011 - mean_absolute_error: 0.0795 - val_loss: 0.0914 - val_mean_absolute_error: 0.0720\n",
      "Epoch 8/100\n",
      "53/53 [==============================] - 12s 232ms/step - loss: 0.0992 - mean_absolute_error: 0.0781 - val_loss: 0.0904 - val_mean_absolute_error: 0.0712\n",
      "Epoch 9/100\n",
      "53/53 [==============================] - 12s 234ms/step - loss: 0.0971 - mean_absolute_error: 0.0763 - val_loss: 0.0899 - val_mean_absolute_error: 0.0706\n",
      "Epoch 10/100\n",
      "53/53 [==============================] - 12s 233ms/step - loss: 0.0950 - mean_absolute_error: 0.0748 - val_loss: 0.0897 - val_mean_absolute_error: 0.0706\n",
      "Epoch 11/100\n",
      "53/53 [==============================] - 12s 233ms/step - loss: 0.0939 - mean_absolute_error: 0.0738 - val_loss: 0.0901 - val_mean_absolute_error: 0.0710\n",
      "Epoch 12/100\n",
      "53/53 [==============================] - 12s 233ms/step - loss: 0.0931 - mean_absolute_error: 0.0733 - val_loss: 0.0901 - val_mean_absolute_error: 0.0709\n",
      "Epoch 13/100\n",
      "53/53 [==============================] - 12s 235ms/step - loss: 0.0923 - mean_absolute_error: 0.0725 - val_loss: 0.0894 - val_mean_absolute_error: 0.0703\n",
      "Epoch 14/100\n",
      "53/53 [==============================] - 12s 234ms/step - loss: 0.0913 - mean_absolute_error: 0.0717 - val_loss: 0.0892 - val_mean_absolute_error: 0.0701\n",
      "Epoch 15/100\n",
      "53/53 [==============================] - 12s 234ms/step - loss: 0.0900 - mean_absolute_error: 0.0709 - val_loss: 0.0898 - val_mean_absolute_error: 0.0706\n",
      "Epoch 16/100\n",
      "53/53 [==============================] - 12s 234ms/step - loss: 0.0896 - mean_absolute_error: 0.0705 - val_loss: 0.0902 - val_mean_absolute_error: 0.0710\n",
      "Epoch 17/100\n",
      "53/53 [==============================] - 12s 234ms/step - loss: 0.0891 - mean_absolute_error: 0.0701 - val_loss: 0.0904 - val_mean_absolute_error: 0.0713\n",
      "Epoch 18/100\n",
      "53/53 [==============================] - 12s 235ms/step - loss: 0.0889 - mean_absolute_error: 0.0700 - val_loss: 0.0906 - val_mean_absolute_error: 0.0714\n",
      "Epoch 19/100\n",
      "53/53 [==============================] - 12s 235ms/step - loss: 0.0884 - mean_absolute_error: 0.0696 - val_loss: 0.0894 - val_mean_absolute_error: 0.0703\n",
      "Epoch 20/100\n",
      "53/53 [==============================] - 12s 235ms/step - loss: 0.0876 - mean_absolute_error: 0.0690 - val_loss: 0.0893 - val_mean_absolute_error: 0.0702\n",
      "Epoch 21/100\n",
      "53/53 [==============================] - 12s 235ms/step - loss: 0.0869 - mean_absolute_error: 0.0685 - val_loss: 0.0898 - val_mean_absolute_error: 0.0705\n",
      "Epoch 22/100\n",
      "53/53 [==============================] - 12s 235ms/step - loss: 0.0865 - mean_absolute_error: 0.0681 - val_loss: 0.0897 - val_mean_absolute_error: 0.0706\n",
      "Epoch 23/100\n",
      "53/53 [==============================] - 12s 236ms/step - loss: 0.0861 - mean_absolute_error: 0.0679 - val_loss: 0.0891 - val_mean_absolute_error: 0.0699\n",
      "Epoch 24/100\n",
      "53/53 [==============================] - 12s 235ms/step - loss: 0.0856 - mean_absolute_error: 0.0674 - val_loss: 0.0892 - val_mean_absolute_error: 0.0700\n",
      "Epoch 25/100\n",
      "53/53 [==============================] - 12s 235ms/step - loss: 0.0850 - mean_absolute_error: 0.0671 - val_loss: 0.0891 - val_mean_absolute_error: 0.0700\n",
      "Epoch 26/100\n",
      "53/53 [==============================] - 13s 236ms/step - loss: 0.0848 - mean_absolute_error: 0.0669 - val_loss: 0.0894 - val_mean_absolute_error: 0.0703\n",
      "Epoch 27/100\n",
      "53/53 [==============================] - 12s 235ms/step - loss: 0.0845 - mean_absolute_error: 0.0666 - val_loss: 0.0897 - val_mean_absolute_error: 0.0705\n",
      "Epoch 28/100\n",
      "53/53 [==============================] - 13s 236ms/step - loss: 0.0840 - mean_absolute_error: 0.0663 - val_loss: 0.0891 - val_mean_absolute_error: 0.0699\n",
      "Epoch 29/100\n",
      "53/53 [==============================] - 12s 236ms/step - loss: 0.0836 - mean_absolute_error: 0.0660 - val_loss: 0.0893 - val_mean_absolute_error: 0.0700\n",
      "Epoch 30/100\n",
      "53/53 [==============================] - 12s 235ms/step - loss: 0.0833 - mean_absolute_error: 0.0658 - val_loss: 0.0901 - val_mean_absolute_error: 0.0708\n",
      "Epoch 31/100\n",
      "53/53 [==============================] - 12s 235ms/step - loss: 0.0832 - mean_absolute_error: 0.0657 - val_loss: 0.0896 - val_mean_absolute_error: 0.0701\n",
      "Epoch 32/100\n",
      "53/53 [==============================] - 13s 236ms/step - loss: 0.0829 - mean_absolute_error: 0.0655 - val_loss: 0.0899 - val_mean_absolute_error: 0.0704\n",
      "Epoch 33/100\n",
      "53/53 [==============================] - 12s 236ms/step - loss: 0.0825 - mean_absolute_error: 0.0652 - val_loss: 0.0904 - val_mean_absolute_error: 0.0708\n",
      "Epoch 34/100\n",
      "53/53 [==============================] - 13s 236ms/step - loss: 0.0820 - mean_absolute_error: 0.0649 - val_loss: 0.0908 - val_mean_absolute_error: 0.0711\n",
      "Epoch 35/100\n",
      "53/53 [==============================] - 13s 239ms/step - loss: 0.0820 - mean_absolute_error: 0.0649 - val_loss: 0.0912 - val_mean_absolute_error: 0.0712\n",
      "Epoch 36/100\n",
      "53/53 [==============================] - 13s 237ms/step - loss: 0.0817 - mean_absolute_error: 0.0647 - val_loss: 0.0909 - val_mean_absolute_error: 0.0711\n",
      "Epoch 37/100\n",
      "53/53 [==============================] - 13s 236ms/step - loss: 0.0814 - mean_absolute_error: 0.0644 - val_loss: 0.0909 - val_mean_absolute_error: 0.0710\n",
      "Epoch 38/100\n",
      "53/53 [==============================] - 13s 236ms/step - loss: 0.0814 - mean_absolute_error: 0.0645 - val_loss: 0.0905 - val_mean_absolute_error: 0.0708\n"
     ]
    }
   ],
   "source": [
    "# checkpoints callback is not defined because a lack of disk space on Google Colab\n",
    "rnn_history = rnn_model.fit(datasets['train_dataset'],\n",
    "                            validation_data=datasets['val_dataset'],\n",
    "                            epochs=100,\n",
    "                            callbacks=[stop_early]\n",
    "                            )"
   ]
  },
  {
   "cell_type": "markdown",
   "metadata": {
    "id": "70cWt-hyNe0V"
   },
   "source": [
    "### Use a pre-trained text embedding as the first layer"
   ]
  },
  {
   "cell_type": "markdown",
   "metadata": {
    "id": "IkaUXR9dO_B8"
   },
   "source": [
    "For this example we will use a pre-trained text embedding model from TensorFlow Hub called \n",
    "google/nnlm-en-dim128-with-normalization/2."
   ]
  },
  {
   "cell_type": "code",
   "execution_count": 24,
   "metadata": {
    "id": "K-Ykty3pNanx"
   },
   "outputs": [],
   "source": [
    "# disable eager execution\n",
    "tf.config.run_functions_eagerly(False)\n",
    "\n",
    "def tf_model_builder(hp):\n",
    "  # use pretrained embeddings for input layer\n",
    "  hub_model = \"https://tfhub.dev/google/nnlm-en-dim128-with-normalization/2\"\n",
    "  # 'trainable=True' - boolean controlling whether this layer is trainable\n",
    "  hub_layer = hub.KerasLayer(hub_model, input_shape=[], dtype=tf.string, \n",
    "                             trainable=True)\n",
    "  model = tf.keras.Sequential()\n",
    "  model.add(hub_layer)\n",
    "  hp_units_1 = hp.Int('units_1', min_value=64, max_value=128, step=16)\n",
    "  activation=hp.Choice(\n",
    "        'dense_activation',\n",
    "        values=['relu', 'tanh', 'sigmoid'],\n",
    "        default='relu'\n",
    "    )\n",
    "  model.add(Dense(units=hp_units_1, activation=activation))\n",
    "  model.add(\n",
    "            Dropout(rate=hp.Float(\n",
    "                'dropout_1',\n",
    "                min_value=0.1,\n",
    "                max_value=0.5,\n",
    "                default=0.25,\n",
    "                step=0.1,\n",
    "            ))\n",
    "        )\n",
    "  hp_units_2 = hp.Int('units_2', min_value=8, max_value=64, step=16)\n",
    "  model.add(Dense(units=hp_units_2, activation=activation))\n",
    "  model.add(\n",
    "            Dropout(rate=hp.Float(\n",
    "                'dropout_2',\n",
    "                min_value=0.1,\n",
    "                max_value=0.5,\n",
    "                default=0.25,\n",
    "                step=0.1,\n",
    "            ))\n",
    "        )\n",
    "  model.add(Dense(1))\n",
    "\n",
    "  hp_learning_rate = hp.Choice('learning_rate', values=[1e-2, 1e-3, 1e-4])\n",
    "  \n",
    "  model.compile(optimizer=keras.optimizers.Adam(learning_rate=hp_learning_rate),\n",
    "              loss=rmse(),\n",
    "              metrics=['mean_absolute_error'])\n",
    "\n",
    "  return model"
   ]
  },
  {
   "cell_type": "code",
   "execution_count": 25,
   "metadata": {
    "id": "8dsuqvdeNa2Y"
   },
   "outputs": [],
   "source": [
    "# define early stop callback to prevent overfitting\n",
    "stop_early = tf.keras.callbacks.EarlyStopping(monitor='val_loss', patience=10)"
   ]
  },
  {
   "cell_type": "code",
   "execution_count": 26,
   "metadata": {
    "id": "zhDLgpHxNbQO"
   },
   "outputs": [],
   "source": [
    "tf_tuner = kt.Hyperband(tf_model_builder,\n",
    "                        objective='mean_absolute_error',\n",
    "                        max_epochs=5,\n",
    "                        directory='TF'\n",
    "                       )"
   ]
  },
  {
   "cell_type": "code",
   "execution_count": 27,
   "metadata": {
    "colab": {
     "base_uri": "https://localhost:8080/"
    },
    "id": "fwxXf3NsQC_f",
    "outputId": "14e9f43b-cfed-41f6-ee8e-40f72245bf7f"
   },
   "outputs": [
    {
     "name": "stdout",
     "output_type": "stream",
     "text": [
      "Trial 10 Complete [00h 20m 39s]\n",
      "mean_absolute_error: 0.05979585275053978\n",
      "\n",
      "Best mean_absolute_error So Far: 0.05979585275053978\n",
      "Total elapsed time: 02h 08m 19s\n"
     ]
    }
   ],
   "source": [
    "tf_tuner.search(df_data['text_train'], df_data['y_train'], \n",
    "                validation_data=(df_data['text_val'], df_data['y_val']), \n",
    "                epochs=5, callbacks=[stop_early])\n",
    "\n",
    "# Get the optimal hyperparameters\n",
    "tf_best_hps = tf_tuner.get_best_hyperparameters(num_trials=1)[0]"
   ]
  },
  {
   "cell_type": "code",
   "execution_count": 28,
   "metadata": {
    "id": "exAualU-QDKz"
   },
   "outputs": [],
   "source": [
    "tf_model = tf_tuner.hypermodel.build(tf_best_hps)\n"
   ]
  },
  {
   "cell_type": "code",
   "execution_count": 29,
   "metadata": {
    "colab": {
     "base_uri": "https://localhost:8080/"
    },
    "id": "NrBzMAYLQDWh",
    "outputId": "00148526-bc4a-4900-ac0a-788fa7b04d42"
   },
   "outputs": [
    {
     "name": "stdout",
     "output_type": "stream",
     "text": [
      "Epoch 1/100\n",
      "53/53 [==============================] - 5s 90ms/step - loss: 0.4759 - mean_absolute_error: 0.3804 - val_loss: 0.1452 - val_mean_absolute_error: 0.1172\n",
      "Epoch 2/100\n",
      "53/53 [==============================] - 5s 89ms/step - loss: 0.1769 - mean_absolute_error: 0.1414 - val_loss: 0.1133 - val_mean_absolute_error: 0.0904\n",
      "Epoch 3/100\n",
      "53/53 [==============================] - 5s 88ms/step - loss: 0.1329 - mean_absolute_error: 0.1054 - val_loss: 0.0976 - val_mean_absolute_error: 0.0771\n",
      "Epoch 4/100\n",
      "53/53 [==============================] - 5s 89ms/step - loss: 0.1146 - mean_absolute_error: 0.0906 - val_loss: 0.0925 - val_mean_absolute_error: 0.0731\n",
      "Epoch 5/100\n",
      "53/53 [==============================] - 5s 93ms/step - loss: 0.1057 - mean_absolute_error: 0.0835 - val_loss: 0.0906 - val_mean_absolute_error: 0.0715\n",
      "Epoch 6/100\n",
      "53/53 [==============================] - 5s 93ms/step - loss: 0.1000 - mean_absolute_error: 0.0790 - val_loss: 0.0897 - val_mean_absolute_error: 0.0707\n",
      "Epoch 7/100\n",
      "53/53 [==============================] - 5s 92ms/step - loss: 0.0962 - mean_absolute_error: 0.0759 - val_loss: 0.0879 - val_mean_absolute_error: 0.0693\n",
      "Epoch 8/100\n",
      "53/53 [==============================] - 5s 92ms/step - loss: 0.0932 - mean_absolute_error: 0.0735 - val_loss: 0.0875 - val_mean_absolute_error: 0.0689\n",
      "Epoch 9/100\n",
      "53/53 [==============================] - 5s 94ms/step - loss: 0.0912 - mean_absolute_error: 0.0719 - val_loss: 0.0873 - val_mean_absolute_error: 0.0688\n",
      "Epoch 10/100\n",
      "53/53 [==============================] - 5s 94ms/step - loss: 0.0892 - mean_absolute_error: 0.0704 - val_loss: 0.0869 - val_mean_absolute_error: 0.0684\n",
      "Epoch 11/100\n",
      "53/53 [==============================] - 5s 94ms/step - loss: 0.0881 - mean_absolute_error: 0.0694 - val_loss: 0.0868 - val_mean_absolute_error: 0.0683\n",
      "Epoch 12/100\n",
      "53/53 [==============================] - 5s 93ms/step - loss: 0.0866 - mean_absolute_error: 0.0683 - val_loss: 0.0864 - val_mean_absolute_error: 0.0680\n",
      "Epoch 13/100\n",
      "53/53 [==============================] - 5s 93ms/step - loss: 0.0855 - mean_absolute_error: 0.0674 - val_loss: 0.0861 - val_mean_absolute_error: 0.0678\n",
      "Epoch 14/100\n",
      "53/53 [==============================] - 5s 93ms/step - loss: 0.0846 - mean_absolute_error: 0.0666 - val_loss: 0.0860 - val_mean_absolute_error: 0.0677\n",
      "Epoch 15/100\n",
      "53/53 [==============================] - 5s 93ms/step - loss: 0.0834 - mean_absolute_error: 0.0656 - val_loss: 0.0859 - val_mean_absolute_error: 0.0676\n",
      "Epoch 16/100\n",
      "53/53 [==============================] - 5s 92ms/step - loss: 0.0824 - mean_absolute_error: 0.0647 - val_loss: 0.0858 - val_mean_absolute_error: 0.0675\n",
      "Epoch 17/100\n",
      "53/53 [==============================] - 5s 94ms/step - loss: 0.0815 - mean_absolute_error: 0.0641 - val_loss: 0.0856 - val_mean_absolute_error: 0.0673\n",
      "Epoch 18/100\n",
      "53/53 [==============================] - 5s 92ms/step - loss: 0.0810 - mean_absolute_error: 0.0637 - val_loss: 0.0857 - val_mean_absolute_error: 0.0674\n",
      "Epoch 19/100\n",
      "53/53 [==============================] - 5s 92ms/step - loss: 0.0802 - mean_absolute_error: 0.0630 - val_loss: 0.0856 - val_mean_absolute_error: 0.0673\n",
      "Epoch 20/100\n",
      "53/53 [==============================] - 5s 93ms/step - loss: 0.0795 - mean_absolute_error: 0.0625 - val_loss: 0.0857 - val_mean_absolute_error: 0.0673\n",
      "Epoch 21/100\n",
      "53/53 [==============================] - 5s 93ms/step - loss: 0.0790 - mean_absolute_error: 0.0621 - val_loss: 0.0857 - val_mean_absolute_error: 0.0673\n",
      "Epoch 22/100\n",
      "53/53 [==============================] - 5s 93ms/step - loss: 0.0782 - mean_absolute_error: 0.0613 - val_loss: 0.0858 - val_mean_absolute_error: 0.0674\n",
      "Epoch 23/100\n",
      "53/53 [==============================] - 5s 95ms/step - loss: 0.0780 - mean_absolute_error: 0.0612 - val_loss: 0.0859 - val_mean_absolute_error: 0.0674\n",
      "Epoch 24/100\n",
      "53/53 [==============================] - 5s 95ms/step - loss: 0.0773 - mean_absolute_error: 0.0606 - val_loss: 0.0860 - val_mean_absolute_error: 0.0675\n",
      "Epoch 25/100\n",
      "53/53 [==============================] - 5s 94ms/step - loss: 0.0767 - mean_absolute_error: 0.0601 - val_loss: 0.0861 - val_mean_absolute_error: 0.0675\n",
      "Epoch 26/100\n",
      "53/53 [==============================] - 5s 93ms/step - loss: 0.0764 - mean_absolute_error: 0.0598 - val_loss: 0.0863 - val_mean_absolute_error: 0.0676\n",
      "Epoch 27/100\n",
      "53/53 [==============================] - 5s 93ms/step - loss: 0.0759 - mean_absolute_error: 0.0594 - val_loss: 0.0864 - val_mean_absolute_error: 0.0677\n"
     ]
    }
   ],
   "source": [
    "# checkpoints callback is not defined because a lack of disk space on Google Colab\n",
    "tf_history = tf_model.fit(datasets['train_dataset'],\n",
    "                          validation_data=datasets['val_dataset'],\n",
    "                          epochs=100,\n",
    "                          callbacks=[stop_early]\n",
    "                          )"
   ]
  },
  {
   "cell_type": "markdown",
   "metadata": {
    "id": "jR-vbxmnQ42_"
   },
   "source": [
    "### Visualize results"
   ]
  },
  {
   "cell_type": "code",
   "execution_count": 30,
   "metadata": {
    "id": "NWysgKqoQs8i"
   },
   "outputs": [],
   "source": [
    "y_real = df_data['scaler'].inverse_transform(df_data['y_test'].reshape(-1, 1))\n",
    "\n",
    "rnn_result = rnn_model.predict(df_data['text_test'])\n",
    "y_predict_rnn = df_data['scaler'].inverse_transform(rnn_result.reshape(-1, 1))\n",
    "\n",
    "tf_result = tf_model.predict(df_data['text_test'])\n",
    "y_predict_tf = df_data['scaler'].inverse_transform(tf_result.reshape(-1, 1))"
   ]
  },
  {
   "cell_type": "code",
   "execution_count": 32,
   "metadata": {
    "id": "nFVjqaS7QtKz"
   },
   "outputs": [],
   "source": [
    "from sklearn.metrics import r2_score, mean_absolute_error\n",
    "\n",
    "\n",
    "estimators = {'RNN': \n",
    "              {\n",
    "                  'mae': mean_absolute_error(y_real, y_predict_rnn),\n",
    "                  'r2_score': r2_score(y_real, y_predict_rnn),\n",
    "                  'y_predict': y_predict_rnn\n",
    "              },\n",
    "              'TF': \n",
    "              {\n",
    "                  'mae': mean_absolute_error(y_real, y_predict_tf),\n",
    "                  'r2_score': r2_score(y_real, y_predict_tf),\n",
    "                  'y_predict': y_predict_tf\n",
    "              }\n",
    "             }"
   ]
  },
  {
   "cell_type": "code",
   "execution_count": 33,
   "metadata": {
    "id": "fMl588MKQtYG"
   },
   "outputs": [],
   "source": [
    "def plot_regression_results(ax, y_true, y_pred, title, scores):\n",
    "    \"\"\"Scatter plot of the predicted vs true targets. \"\"\"\n",
    "    \n",
    "    ax.plot([y_true.min(), y_true.max()],\n",
    "            [y_true.min(), y_true.max()],\n",
    "            '--r', linewidth=2)\n",
    "    ax.scatter(y_true, y_pred, alpha=0.2)\n",
    "\n",
    "    ax.spines['top'].set_visible(False)\n",
    "    ax.spines['right'].set_visible(False)\n",
    "    ax.get_xaxis().tick_bottom()\n",
    "    ax.get_yaxis().tick_left()\n",
    "    ax.spines['left'].set_position(('outward', 10))\n",
    "    ax.spines['bottom'].set_position(('outward', 10))\n",
    "    ax.set_xlim([y_true.min(), y_true.max()])\n",
    "    ax.set_ylim([y_true.min(), y_true.max()])\n",
    "    ax.set_xlabel('Measured')\n",
    "    ax.set_ylabel('Predicted')\n",
    "    extra = plt.Rectangle((0, 0), 0, 0, fc=\"w\", fill=False,\n",
    "                          edgecolor='none', linewidth=0)\n",
    "    ax.legend([extra], [scores], loc='upper left')\n",
    "    title = title\n",
    "    ax.set_title(title)"
   ]
  },
  {
   "cell_type": "code",
   "execution_count": 35,
   "metadata": {
    "colab": {
     "base_uri": "https://localhost:8080/",
     "height": 514
    },
    "id": "Xohbv387RlnB",
    "outputId": "34c8dcfb-b82d-4c6f-c994-3f7a0ef1fe30"
   },
   "outputs": [
    {
     "data": {
      "image/png": "[encoded data removed]",
      "text/plain": [
       "<Figure size 648x504 with 2 Axes>"
      ]
     },
     "metadata": {
      "needs_background": "light",
      "tags": []
     },
     "output_type": "display_data"
    }
   ],
   "source": [
    "fig, axs = plt.subplots(1, 2, figsize=(9, 7))\n",
    "axs = np.ravel(axs)\n",
    "\n",
    "for ax, name in zip(axs, list(estimators.keys())):\n",
    "    \n",
    "    plot_regression_results(\n",
    "        ax, y_real, estimators[name]['y_predict'],\n",
    "        name,\n",
    "        (r'r2_score={:.2f}' + '\\n' + r'mae={:.2f}')\n",
    "        .format(estimators[name]['r2_score'],\n",
    "                estimators[name]['mae']))\n",
    "\n",
    "plt.suptitle('Predictors comparison ')\n",
    "plt.tight_layout()\n",
    "plt.subplots_adjust(top=0.9)\n",
    "plt.show()"
   ]
  },
  {
   "cell_type": "markdown",
   "metadata": {
    "id": "GDvkGJ1oDskx"
   },
   "source": [
    "### Conclusion"
   ]
  },
  {
   "cell_type": "markdown",
   "metadata": {},
   "source": [
    "- both models have similar scores\n",
    "- mean absolute error is decreased in comparison with TF-IDF features used with ensemble methods and approximately average error on validation dataset is 7%\n",
    "- r2_score is much higher using sequence embeddings than using just TF_IDF encoders\n",
    "- results are promising and further improvement in ANN arhitectures with more input data will lead to better results"
   ]
  }
 ],
 "metadata": {
  "accelerator": "GPU",
  "colab": {
   "authorship_tag": "ABX9TyPceyErP4MgSHqmUesXY+L7",
   "include_colab_link": true,
   "name": "ANNComparison.ipynb",
   "provenance": [],
   "toc_visible": true
  },
  "kernelspec": {
   "display_name": "Python 3",
   "language": "python",
   "name": "python3"
  },
  "language_info": {
   "codemirror_mode": {
    "name": "ipython",
    "version": 3
   },
   "file_extension": ".py",
   "mimetype": "text/x-python",
   "name": "python",
   "nbconvert_exporter": "python",
   "pygments_lexer": "ipython3",
   "version": "3.6.7"
  }
 },
 "nbformat": 4,
 "nbformat_minor": 1
}

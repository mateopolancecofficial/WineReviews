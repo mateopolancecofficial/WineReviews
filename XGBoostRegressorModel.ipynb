{
 "cells": [
  {
   "cell_type": "code",
   "execution_count": 1,
   "id": "e7409d71",
   "metadata": {},
   "outputs": [],
   "source": [
    "import os\n",
    "import warnings\n",
    "from pathlib import Path\n",
    "\n",
    "import matplotlib.pyplot as plt\n",
    "import numpy as np\n",
    "import pandas as pd\n",
    "import seaborn as sns\n",
    "from IPython.display import display\n",
    "from pandas.api.types import CategoricalDtype\n",
    "\n",
    "from category_encoders import MEstimateEncoder\n",
    "from sklearn.cluster import KMeans\n",
    "from sklearn.decomposition import PCA\n",
    "from sklearn.feature_selection import mutual_info_regression\n",
    "from sklearn.model_selection import KFold, cross_val_score\n",
    "from sklearn.model_selection import train_test_split\n",
    "\n",
    "from sklearn.feature_extraction.text import CountVectorizer\n",
    "from sklearn.feature_extraction.text import TfidfTransformer\n",
    "from sklearn.ensemble import RandomForestRegressor\n",
    "from sklearn.ensemble import GradientBoostingRegressor\n",
    "from sklearn.model_selection import RandomizedSearchCV\n",
    "from sklearn.model_selection import train_test_split\n",
    "from sklearn.model_selection import cross_val_score\n",
    "from sklearn.preprocessing import StandardScaler\n",
    "from sklearn.preprocessing import MinMaxScaler\n"
   ]
  },
  {
   "cell_type": "code",
   "execution_count": 2,
   "id": "ecb0d595",
   "metadata": {},
   "outputs": [],
   "source": [
    "path_v1 = \"./data/winemag-data-130k-v2.csv\" \n",
    "path_v2 = \"./data/winemag-data_first150k.csv\"\n",
    "col_idx = 0\n",
    "train_size, test_size, val_size = 0.8, 0.2, 0.2\n",
    "columns = ['description', 'points']\n",
    "transform_target = 'normalize'"
   ]
  },
  {
   "cell_type": "code",
   "execution_count": 3,
   "id": "f864f261",
   "metadata": {},
   "outputs": [],
   "source": [
    "def load_data(path_v1: str, path_v2: str, columns: list, col_idx: int):\n",
    "  \"\"\"\n",
    "  Load and concatenate two datasets with removing duplicates.\n",
    "  param path_v1: import path of first dataset\n",
    "  param path_v2: import path of second dataset\n",
    "  param columns: list of columns to preserve in dataframe\n",
    "  param col_idx: index of column given in input columns list \n",
    "                 on which look for duplicates in dataframe\n",
    "  return:        pandas dataframe\n",
    "  \"\"\"\n",
    "  \n",
    "  df_v1 = pd.read_csv(path_v1, index_col=0)\n",
    "  df_v1 = df_v1[columns]\n",
    "  # remove numbers form column description from first dataframe\n",
    "  df_v1.description = df_v1.description.str.replace('\\d+', '')\n",
    "\n",
    "  df_v2 = pd.read_csv(path_v2, index_col=0)\n",
    "  df_v2 = df_v2[columns]\n",
    "  # remove numbers form column description from second dataframe\n",
    "  df_v2.description = df_v2.description.str.replace('\\d+', '')\n",
    "\n",
    "  df = pd.concat([df_v1, df_v2])\n",
    "\n",
    "  # dropping duplicte values\n",
    "  df.drop_duplicates(subset = columns[col_idx],\n",
    "                       keep = 'first', inplace = True)\n",
    "  \n",
    "  return df"
   ]
  },
  {
   "cell_type": "code",
   "execution_count": 4,
   "id": "5ff11266",
   "metadata": {},
   "outputs": [],
   "source": [
    "def split_data(df: pd.DataFrame, train_size: float, test_size: float, val_size: float):\n",
    "  \"\"\"\n",
    "  Split dataset on train, test and validation subsets.\n",
    "  param df:          input dataframe\n",
    "  param train_size:  fraction of train size\n",
    "  param test_size:   fraction of test size\n",
    "  param val_size:    fraction of validation size\n",
    "  return:            dictionary, keys=names of dataframes, columns=dataframes\n",
    "  \"\"\"\n",
    "  \n",
    "  # shuffle dataset\n",
    "  df = df.sample(frac = 1)\n",
    "  \n",
    "  # split on test and train set\n",
    "  text_train, text_test, y_train, y_test = train_test_split(df.description, df.points,\n",
    "                                           test_size=test_size, train_size=train_size)\n",
    "  \n",
    "  y_train, y_test = y_train.astype('float'), y_test.astype('float')\n",
    "\n",
    "  dataset_dict = {\n",
    "      'text_train': text_train,\n",
    "      'y_train': y_train,\n",
    "      'text_test': text_test,\n",
    "      'y_test': y_test\n",
    "  }\n",
    "\n",
    "  return dataset_dict"
   ]
  },
  {
   "cell_type": "code",
   "execution_count": 5,
   "id": "d65095ab",
   "metadata": {},
   "outputs": [],
   "source": [
    "def transform_data(df_data: dict, transform: str):\n",
    "    \"\"\"\n",
    "    Encode input textual features and transform continuus target variable (standardization, normalization).\n",
    "    param df_data:   dictionary, keys=names of dataframes, columns=dataframes\n",
    "    param transform: name of the target variable transformation\n",
    "    return:          dictionary, keys=names transformed data and scaler, columns=transformed data and scaler object\n",
    "    \"\"\"\n",
    "    # vectorize input text to numerical features\n",
    "    count_vect_train = CountVectorizer(max_features=100, stop_words='english')\n",
    "    df_train = count_vect_train.fit_transform(df_data['text_train'])\n",
    "\n",
    "    count_vect_test = CountVectorizer(max_features=100, stop_words='english')\n",
    "    df_test = count_vect_test.fit_transform(df_data['text_test'])\n",
    "    \n",
    "    # apply tf-idf transform\n",
    "    tf_transformer_train = TfidfTransformer(use_idf=True).fit(df_train)\n",
    "    df_train_encode = tf_transformer_train.transform(df_train)\n",
    "\n",
    "    tf_transformer_test = TfidfTransformer(use_idf=True).fit(df_test)\n",
    "    df_test_encode = tf_transformer_test.transform(df_test)\n",
    "    \n",
    "    df_data['y_train'] = df_data['y_train'].to_numpy().reshape(-1, 1)\n",
    "    df_data['y_test'] = df_data['y_test'].to_numpy().reshape(-1, 1)\n",
    "    \n",
    "    # apply target variable transformation\n",
    "    if transform == 'normalize':\n",
    "        scaler = MinMaxScaler()\n",
    "        scaler.fit(df_data['y_train'])\n",
    "        train_y = scaler.transform(df_data['y_train'])\n",
    "        test_y = scaler.transform(df_data['y_test'])\n",
    "    \n",
    "    elif transform == 'standardize':\n",
    "        scaler = StandardScaler()\n",
    "        scaler.fit(df_data['y_train'])\n",
    "        train_y = scaler.transform(df_data['y_train'])\n",
    "        test_y = scaler.transform(df_data['y_test'])\n",
    "    \n",
    "    else:\n",
    "        train_y = df_data['y_train']\n",
    "        test_y = df_data['y_test']\n",
    "        scaler = None\n",
    "    \n",
    "    train_y, test_y = train_y.ravel(), test_y.ravel()\n",
    "    \n",
    "    transformed_data = {\n",
    "        'text_train': df_train_encode,\n",
    "        'y_train': train_y,\n",
    "        'text_test': df_test_encode,\n",
    "        'y_test': test_y,\n",
    "        'scaler': scaler\n",
    "    }\n",
    "    \n",
    "    return transformed_data"
   ]
  },
  {
   "cell_type": "code",
   "execution_count": 6,
   "id": "401eb967",
   "metadata": {},
   "outputs": [],
   "source": [
    "# call data transformation functions\n",
    "df = load_data(path_v1, path_v2, columns, col_idx)\n",
    "df_data = split_data(df, train_size, test_size, val_size)\n",
    "transformed_data = transform_data(df_data, transform_target)"
   ]
  },
  {
   "cell_type": "code",
   "execution_count": 7,
   "id": "7ae4bc9d",
   "metadata": {},
   "outputs": [],
   "source": [
    "def get_best_model(models, X_train, Y_train):\n",
    "    \"\"\"\n",
    "    Based on cross validation score return model with best average score.\n",
    "    param models: dictionary with predefined models\n",
    "    param X_train: input features, numpy array\n",
    "    param Y_train: target variable, numpy array\n",
    "    \"\"\"\n",
    "    avg_score = {key: 0 for key in models.keys()}\n",
    "    \n",
    "    for model in models.keys():\n",
    "        print(model)\n",
    "        avg_score[model] = np.mean(cross_val_score(models[model], X_train, Y_train, cv=5, n_jobs=-1))\n",
    "        print('One iteration done! ')\n",
    "    return avg_score"
   ]
  },
  {
   "cell_type": "code",
   "execution_count": null,
   "id": "75fbbd65",
   "metadata": {},
   "outputs": [
    {
     "name": "stdout",
     "output_type": "stream",
     "text": [
      "gb\n",
      "One iteration done! \n",
      "rf\n"
     ]
    }
   ],
   "source": [
    "models = {\n",
    "    'gb': GradientBoostingRegressor(n_iter_no_change=10),\n",
    "    'rf': RandomForestRegressor(n_jobs=-1)\n",
    "}\n",
    "\n",
    "avg_score = get_best_model(models, transformed_data['text_train'], transformed_data['y_train'])"
   ]
  },
  {
   "cell_type": "code",
   "execution_count": 60,
   "id": "a9177847",
   "metadata": {},
   "outputs": [
    {
     "data": {
      "text/plain": [
       "2.51713270610739"
      ]
     },
     "execution_count": 60,
     "metadata": {},
     "output_type": "execute_result"
    }
   ],
   "source": [
    "from sklearn.metrics import mean_absolute_error\n",
    "\n",
    "y_real = transformed_data['scaler'].inverse_transform(transformed_data['y_test'].reshape(-1, 1))\n",
    "y_predict = transformed_data['scaler'].inverse_transform(reg.predict(transformed_data['text_test']).reshape(-1, 1))\n",
    "\n",
    "mean_absolute_error(y_real, y_predict)"
   ]
  },
  {
   "cell_type": "code",
   "execution_count": 40,
   "id": "aebb1b69",
   "metadata": {},
   "outputs": [
    {
     "data": {
      "text/plain": [
       "array([0.41701953, 0.32271637, 0.42477637, ..., 0.386571  , 0.37783014,\n",
       "       0.37495006])"
      ]
     },
     "execution_count": 40,
     "metadata": {},
     "output_type": "execute_result"
    }
   ],
   "source": [
    "reg.predict(transformed_data['text_test'])"
   ]
  },
  {
   "cell_type": "code",
   "execution_count": 41,
   "id": "540f7e36",
   "metadata": {},
   "outputs": [
    {
     "data": {
      "text/plain": [
       "array([0.35, 0.35, 0.45, ..., 0.35, 0.35, 0.4 ])"
      ]
     },
     "execution_count": 41,
     "metadata": {},
     "output_type": "execute_result"
    }
   ],
   "source": [
    "transformed_data['y_test'].ravel()"
   ]
  },
  {
   "cell_type": "code",
   "execution_count": 42,
   "id": "3cfb2c02",
   "metadata": {},
   "outputs": [],
   "source": [
    "def get_best_params(models, tuned_parameters, X_train, Y_train):\n",
    "    \"\"\"\n",
    "    Calculate cross validation score for different set of hyper parameters.\n",
    "    param models:            regression models dict\n",
    "    param tuned_parameters:  dict of tuning parameters for specified ML models\n",
    "    param scores:            list of metrics\n",
    "    param X_train:           input features, pandas dataframe\n",
    "    param Y_train:           target continuus variable, pandas series\n",
    "    \"\"\"\n",
    "    \n",
    "    for model in models.keys():\n",
    "        print(\"# Tuning hyper-parameters! \")\n",
    "        print()\n",
    "\n",
    "        clf = RandomizedSearchCV(estimator = models[model], param_distributions = tuned_parameters[model], cv = 3, n_jobs = -1)\n",
    "        clf.fit(X_train, Y_train)\n",
    "\n",
    "        print(\"Best parameters set found on development set:\")\n",
    "        print()\n",
    "        print(clf.best_params_)\n",
    "        print()\n",
    "        print(\"Grid scores on development set:\")\n",
    "        print()\n",
    "        means = clf.cv_results_['mean_test_score']\n",
    "        stds = clf.cv_results_['std_test_score']\n",
    "        for mean, std, params in zip(means, stds, clf.cv_results_['params']):\n",
    "            print(\"%0.3f (+/-%0.03f) for %r\"\n",
    "                  % (mean, std * 2, params))\n",
    "        print()\n",
    "    \n",
    "    return clf.best_params_\n"
   ]
  },
  {
   "cell_type": "code",
   "execution_count": 43,
   "id": "5aaf1eda",
   "metadata": {},
   "outputs": [],
   "source": [
    "tuned_parameters = {}\n",
    "\n",
    "models = {\n",
    "    'gb': GradientBoostingRegressor()\n",
    "}\n",
    "\n",
    "# Number of trees in random forest\n",
    "n_estimators = [50, 100, 150, 200]\n",
    "# Number of features to consider at every split\n",
    "max_features = ['auto', 'sqrt']\n",
    "# Maximum number of levels in tree\n",
    "max_depth = [3, 6, 9]\n",
    "min_samples_leaf = [1, 2, 4]\n",
    "# loss functions\n",
    "#losses = ['squared_error', 'huber']\n",
    "losses = ['huber']\n",
    "# Create the random grid\n",
    "rf_param = {   'loss': losses,\n",
    "               'n_estimators': n_estimators,\n",
    "               'max_features': max_features,\n",
    "               'max_depth': max_depth,\n",
    "               'min_samples_leaf': min_samples_leaf\n",
    "           }\n",
    "\n",
    "tuned_parameters = {\n",
    "    'gb': rf_param\n",
    "}\n"
   ]
  },
  {
   "cell_type": "code",
   "execution_count": 44,
   "id": "e460f524",
   "metadata": {},
   "outputs": [
    {
     "name": "stdout",
     "output_type": "stream",
     "text": [
      "# Tuning hyper-parameters! \n",
      "\n",
      "Best parameters set found on development set:\n",
      "\n",
      "{'n_estimators': 150, 'min_samples_leaf': 1, 'max_features': 'auto', 'max_depth': 9, 'loss': 'huber'}\n",
      "\n",
      "Grid scores on development set:\n",
      "\n",
      "0.579 (+/-0.003) for {'n_estimators': 150, 'min_samples_leaf': 1, 'max_features': 'auto', 'max_depth': 9, 'loss': 'huber'}\n",
      "0.299 (+/-0.004) for {'n_estimators': 50, 'min_samples_leaf': 1, 'max_features': 'sqrt', 'max_depth': 3, 'loss': 'huber'}\n",
      "0.498 (+/-0.003) for {'n_estimators': 100, 'min_samples_leaf': 4, 'max_features': 'sqrt', 'max_depth': 6, 'loss': 'huber'}\n",
      "0.570 (+/-0.004) for {'n_estimators': 200, 'min_samples_leaf': 2, 'max_features': 'auto', 'max_depth': 6, 'loss': 'huber'}\n",
      "0.557 (+/-0.004) for {'n_estimators': 200, 'min_samples_leaf': 1, 'max_features': 'sqrt', 'max_depth': 6, 'loss': 'huber'}\n",
      "0.515 (+/-0.004) for {'n_estimators': 100, 'min_samples_leaf': 2, 'max_features': 'auto', 'max_depth': 6, 'loss': 'huber'}\n",
      "0.298 (+/-0.005) for {'n_estimators': 50, 'min_samples_leaf': 2, 'max_features': 'sqrt', 'max_depth': 3, 'loss': 'huber'}\n",
      "0.570 (+/-0.004) for {'n_estimators': 150, 'min_samples_leaf': 2, 'max_features': 'sqrt', 'max_depth': 9, 'loss': 'huber'}\n",
      "0.423 (+/-0.006) for {'n_estimators': 100, 'min_samples_leaf': 1, 'max_features': 'auto', 'max_depth': 3, 'loss': 'huber'}\n",
      "0.502 (+/-0.006) for {'n_estimators': 200, 'min_samples_leaf': 1, 'max_features': 'auto', 'max_depth': 3, 'loss': 'huber'}\n",
      "\n"
     ]
    }
   ],
   "source": [
    "best_params = get_cross_val_scores(models, tuned_parameters, transformed_data['text_train'], transformed_data['y_train'])"
   ]
  },
  {
   "cell_type": "code",
   "execution_count": 46,
   "id": "a07e3be9",
   "metadata": {},
   "outputs": [
    {
     "data": {
      "text/plain": [
       "GradientBoostingRegressor(loss='huber', max_depth=9, max_features='auto',\n",
       "                          n_estimators=150, n_iter_no_change=10)"
      ]
     },
     "execution_count": 46,
     "metadata": {},
     "output_type": "execute_result"
    }
   ],
   "source": [
    "reg = GradientBoostingRegressor(n_iter_no_change=10, **best_params)\n",
    "\n",
    "#with DisplayLossCurve(print_loss=True):\n",
    "reg.fit(transformed_data['text_train'], transformed_data['y_train'])"
   ]
  },
  {
   "cell_type": "code",
   "execution_count": 47,
   "id": "f1a755a5",
   "metadata": {},
   "outputs": [
    {
     "data": {
      "text/plain": [
       "2.402493493900879"
      ]
     },
     "execution_count": 47,
     "metadata": {},
     "output_type": "execute_result"
    }
   ],
   "source": [
    "from sklearn.metrics import mean_absolute_error\n",
    "\n",
    "y_real = transformed_data['scaler'].inverse_transform(transformed_data['y_test'].reshape(-1, 1))\n",
    "y_predict = transformed_data['scaler'].inverse_transform(reg.predict(transformed_data['text_test']).reshape(-1, 1))\n",
    "\n",
    "mean_absolute_error(y_real, y_predict)"
   ]
  },
  {
   "cell_type": "code",
   "execution_count": 48,
   "id": "8646df17",
   "metadata": {},
   "outputs": [
    {
     "data": {
      "text/plain": [
       "0.08629957635615926"
      ]
     },
     "execution_count": 48,
     "metadata": {},
     "output_type": "execute_result"
    }
   ],
   "source": [
    "from sklearn.metrics import r2_score\n",
    "\n",
    "r2_score(y_real, y_predict)"
   ]
  },
  {
   "cell_type": "code",
   "execution_count": 49,
   "id": "d6a1b4b6",
   "metadata": {},
   "outputs": [
    {
     "data": {
      "text/html": [
       "<div>\n",
       "<style scoped>\n",
       "    .dataframe tbody tr th:only-of-type {\n",
       "        vertical-align: middle;\n",
       "    }\n",
       "\n",
       "    .dataframe tbody tr th {\n",
       "        vertical-align: top;\n",
       "    }\n",
       "\n",
       "    .dataframe thead th {\n",
       "        text-align: right;\n",
       "    }\n",
       "</style>\n",
       "<table border=\"1\" class=\"dataframe\">\n",
       "  <thead>\n",
       "    <tr style=\"text-align: right;\">\n",
       "      <th></th>\n",
       "      <th>Loss</th>\n",
       "      <th>Epoch</th>\n",
       "    </tr>\n",
       "  </thead>\n",
       "  <tbody>\n",
       "    <tr>\n",
       "      <th>0</th>\n",
       "      <td>0.011538</td>\n",
       "      <td>0</td>\n",
       "    </tr>\n",
       "    <tr>\n",
       "      <th>1</th>\n",
       "      <td>0.011041</td>\n",
       "      <td>1</td>\n",
       "    </tr>\n",
       "    <tr>\n",
       "      <th>2</th>\n",
       "      <td>0.010616</td>\n",
       "      <td>2</td>\n",
       "    </tr>\n",
       "    <tr>\n",
       "      <th>3</th>\n",
       "      <td>0.010239</td>\n",
       "      <td>3</td>\n",
       "    </tr>\n",
       "    <tr>\n",
       "      <th>4</th>\n",
       "      <td>0.009894</td>\n",
       "      <td>4</td>\n",
       "    </tr>\n",
       "    <tr>\n",
       "      <th>...</th>\n",
       "      <td>...</td>\n",
       "      <td>...</td>\n",
       "    </tr>\n",
       "    <tr>\n",
       "      <th>98</th>\n",
       "      <td>0.004466</td>\n",
       "      <td>98</td>\n",
       "    </tr>\n",
       "    <tr>\n",
       "      <th>99</th>\n",
       "      <td>0.004451</td>\n",
       "      <td>99</td>\n",
       "    </tr>\n",
       "    <tr>\n",
       "      <th>100</th>\n",
       "      <td>0.004439</td>\n",
       "      <td>100</td>\n",
       "    </tr>\n",
       "    <tr>\n",
       "      <th>101</th>\n",
       "      <td>0.004426</td>\n",
       "      <td>101</td>\n",
       "    </tr>\n",
       "    <tr>\n",
       "      <th>102</th>\n",
       "      <td>0.004412</td>\n",
       "      <td>102</td>\n",
       "    </tr>\n",
       "  </tbody>\n",
       "</table>\n",
       "<p>103 rows × 2 columns</p>\n",
       "</div>"
      ],
      "text/plain": [
       "         Loss  Epoch\n",
       "0    0.011538      0\n",
       "1    0.011041      1\n",
       "2    0.010616      2\n",
       "3    0.010239      3\n",
       "4    0.009894      4\n",
       "..        ...    ...\n",
       "98   0.004466     98\n",
       "99   0.004451     99\n",
       "100  0.004439    100\n",
       "101  0.004426    101\n",
       "102  0.004412    102\n",
       "\n",
       "[103 rows x 2 columns]"
      ]
     },
     "execution_count": 49,
     "metadata": {},
     "output_type": "execute_result"
    }
   ],
   "source": [
    "d = {\"Loss\": reg.train_score_.T, 'Epoch': [i for i in range(len(reg.train_score_))]}\n",
    "loss_plot = pd.DataFrame(d)\n",
    "loss_plot"
   ]
  },
  {
   "cell_type": "code",
   "execution_count": 50,
   "id": "55e75107",
   "metadata": {},
   "outputs": [
    {
     "data": {
      "text/plain": [
       "<AxesSubplot:xlabel='Epoch', ylabel='Loss'>"
      ]
     },
     "execution_count": 50,
     "metadata": {},
     "output_type": "execute_result"
    },
    {
     "data": {
      "image/png": "[encoded data removed]",
      "text/plain": [
       "<Figure size 432x288 with 1 Axes>"
      ]
     },
     "metadata": {
      "needs_background": "light"
     },
     "output_type": "display_data"
    }
   ],
   "source": [
    "sns.lineplot(x=loss_plot['Epoch'], y=loss_plot['Loss'])"
   ]
  },
  {
   "cell_type": "code",
   "execution_count": null,
   "id": "b8c66ecc",
   "metadata": {},
   "outputs": [],
   "source": []
  }
 ],
 "metadata": {
  "kernelspec": {
   "display_name": "env",
   "language": "python",
   "name": "env"
  },
  "language_info": {
   "codemirror_mode": {
    "name": "ipython",
    "version": 3
   },
   "file_extension": ".py",
   "mimetype": "text/x-python",
   "name": "python",
   "nbconvert_exporter": "python",
   "pygments_lexer": "ipython3",
   "version": "3.6.7"
  }
 },
 "nbformat": 4,
 "nbformat_minor": 5
}

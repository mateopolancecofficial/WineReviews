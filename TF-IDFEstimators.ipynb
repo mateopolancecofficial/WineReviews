{
 "cells": [
  {
   "cell_type": "code",
   "execution_count": 1,
   "metadata": {},
   "outputs": [],
   "source": [
    "import os\n",
    "import warnings\n",
    "from pathlib import Path\n",
    "\n",
    "import matplotlib.pyplot as plt\n",
    "import numpy as np\n",
    "import pandas as pd\n",
    "import seaborn as sns\n",
    "from IPython.display import display\n",
    "\n",
    "from sklearn.feature_selection import mutual_info_regression\n",
    "from sklearn.model_selection import KFold, cross_val_score\n",
    "from sklearn.model_selection import train_test_split\n",
    "\n",
    "from sklearn.feature_extraction.text import CountVectorizer\n",
    "from sklearn.feature_extraction.text import TfidfTransformer\n",
    "from sklearn.ensemble import RandomForestRegressor\n",
    "from sklearn.ensemble import GradientBoostingRegressor\n",
    "from sklearn.model_selection import RandomizedSearchCV\n",
    "from sklearn.model_selection import train_test_split\n",
    "from sklearn.model_selection import cross_val_score\n",
    "from sklearn.preprocessing import StandardScaler\n",
    "from sklearn.preprocessing import MinMaxScaler\n",
    "from sklearn.metrics import r2_score, mean_absolute_error"
   ]
  },
  {
   "cell_type": "markdown",
   "metadata": {},
   "source": [
    "### Load and transform input dataset\n",
    "\n",
    "Input dataset consists of description feature and points target variable.\n",
    "\n",
    "Data will be loaded into pandas dataframe and split into train and test subsets.\n",
    "\n",
    "Description feature will be encoded with TF-IDF encoder while points target variable will be normalized or standardized based on user input."
   ]
  },
  {
   "cell_type": "code",
   "execution_count": 2,
   "metadata": {},
   "outputs": [],
   "source": [
    "path_v1 = \"./Data/winemag-data-130k-v2.csv\" \n",
    "path_v2 = \"./Data/winemag-data_first150k.csv\"\n",
    "col_idx = 0\n",
    "train_size, test_size = 0.8, 0.2\n",
    "max_features = 100\n",
    "# ngram_range for CountVectorizer\n",
    "ngram_range=(1, 2)\n",
    "columns = ['description', 'points']\n",
    "transform_target = 'normalize'"
   ]
  },
  {
   "cell_type": "code",
   "execution_count": 3,
   "metadata": {},
   "outputs": [],
   "source": [
    "def load_data(path_v1: str, path_v2: str, columns: list, col_idx: int):\n",
    "  \"\"\"\n",
    "  Load and concatenate two datasets with removing duplicates.\n",
    "  param path_v1: import path of first dataset\n",
    "  param path_v2: import path of second dataset\n",
    "  param columns: list of columns to preserve in dataframe\n",
    "  param col_idx: index of column given in input columns list \n",
    "                 on which look for duplicates in dataframe\n",
    "  return:        pandas dataframe\n",
    "  \"\"\"\n",
    "  \n",
    "  df_v1 = pd.read_csv(path_v1, index_col=0)\n",
    "  df_v1 = df_v1[columns]\n",
    "    \n",
    "  # remove numbers form column description from first dataframe\n",
    "  df_v1.description = df_v1.description.str.replace('\\d+', '')\n",
    "\n",
    "  df_v2 = pd.read_csv(path_v2, index_col=0)\n",
    "  df_v2 = df_v2[columns]\n",
    "    \n",
    "  # remove numbers form column description from second dataframe\n",
    "  df_v2.description = df_v2.description.str.replace('\\d+', '')\n",
    "\n",
    "  df = pd.concat([df_v1, df_v2])\n",
    "\n",
    "  # dropping duplicte values\n",
    "  df.drop_duplicates(subset = columns[col_idx],\n",
    "                       keep = 'first', inplace = True)\n",
    "  \n",
    "  return df"
   ]
  },
  {
   "cell_type": "code",
   "execution_count": 4,
   "metadata": {},
   "outputs": [],
   "source": [
    "def split_data(df: pd.DataFrame, train_size: float, test_size: float):\n",
    "  \"\"\"\n",
    "  Split dataset on train, test and validation subsets.\n",
    "  param df:          input dataframe\n",
    "  param train_size:  fraction of train size\n",
    "  param test_size:   fraction of test size\n",
    "  return:            dictionary, keys=names of dataframes, columns=dataframes\n",
    "  \"\"\"\n",
    "  \n",
    "  # shuffle dataset\n",
    "  df = df.sample(frac = 1)\n",
    "  \n",
    "  # split on test and train set\n",
    "  text_train, text_test, y_train, y_test = train_test_split(df.description, df.points,\n",
    "                                           test_size=test_size, train_size=train_size)\n",
    "  \n",
    "  y_train, y_test = y_train.astype('float'), y_test.astype('float')\n",
    "\n",
    "  dataset_dict = {\n",
    "      'text_train': text_train,\n",
    "      'y_train': y_train,\n",
    "      'text_test': text_test,\n",
    "      'y_test': y_test\n",
    "  }\n",
    "\n",
    "  return dataset_dict"
   ]
  },
  {
   "cell_type": "code",
   "execution_count": 12,
   "metadata": {},
   "outputs": [],
   "source": [
    "def transform_data(df_data: dict, transform: str, max_features: int, ngram_range: tuple):\n",
    "    \"\"\"\n",
    "    Encode input textual features and transform continuus target variable (standardization, normalization).\n",
    "    param df_data:      dictionary, keys=names of dataframes, columns=dataframes\n",
    "    param transform:    name of the target variable transformation\n",
    "    param max_features: use best num of features\n",
    "    param ngram_range:  the lower and upper boundary of the range of n-values for different \n",
    "                        word n-grams or char n-grams to be extracted. For example an ngram_range of (1, 1) means only unigrams, \n",
    "                        (1, 2) means unigrams and bigrams, and (2, 2) means only bigrams.\n",
    "    return:             dictionary, keys=names transformed data and scaler, columns=transformed data and scaler object\n",
    "    \"\"\"\n",
    "    # vectorize input text to numerical features\n",
    "    count_vect = CountVectorizer(max_features=max_features, stop_words='english')\n",
    "    \n",
    "    df_train = count_vect.fit_transform(df_data['text_train'])\n",
    "\n",
    "    df_test = count_vect.fit_transform(df_data['text_test'])\n",
    "    \n",
    "    # apply tf-idf transform\n",
    "    tf_transformer = TfidfTransformer(use_idf=True).fit(df_train)\n",
    "    \n",
    "    df_train_encode = tf_transformer.transform(df_train)\n",
    "\n",
    "    df_test_encode = tf_transformer.transform(df_test)\n",
    "    \n",
    "    df_data['y_train'] = df_data['y_train'].to_numpy().reshape(-1, 1)\n",
    "    df_data['y_test'] = df_data['y_test'].to_numpy().reshape(-1, 1)\n",
    "    \n",
    "    # apply target variable transformation\n",
    "    if transform == 'normalize':\n",
    "        scaler = MinMaxScaler()\n",
    "        scaler.fit(df_data['y_train'])\n",
    "        train_y = scaler.transform(df_data['y_train'])\n",
    "        test_y = scaler.transform(df_data['y_test'])\n",
    "    \n",
    "    elif transform == 'standardize':\n",
    "        scaler = StandardScaler()\n",
    "        scaler.fit(df_data['y_train'])\n",
    "        train_y = scaler.transform(df_data['y_train'])\n",
    "        test_y = scaler.transform(df_data['y_test'])\n",
    "    \n",
    "    else:\n",
    "        raise ValueError(\"Transform of target variable wrong specified. Please choose between normalize or standardize transforms.\")\n",
    "    \n",
    "    train_y, test_y = train_y.ravel(), test_y.ravel()\n",
    "    \n",
    "    transformed_data = {\n",
    "        'text_train': df_train_encode.todense(),\n",
    "        'y_train': train_y,\n",
    "        'text_test': df_test_encode.todense(),\n",
    "        'y_test': test_y,\n",
    "        'scaler': scaler\n",
    "    }\n",
    "    \n",
    "    return transformed_data"
   ]
  },
  {
   "cell_type": "code",
   "execution_count": 6,
   "metadata": {},
   "outputs": [],
   "source": [
    "# call data transformation functions\n",
    "df = load_data(path_v1, path_v2, columns, col_idx)\n",
    "df_data = split_data(df, train_size, test_size)\n",
    "transformed_data = transform_data(df_data, transform_target, max_features, ngram_range)"
   ]
  },
  {
   "cell_type": "code",
   "execution_count": 7,
   "metadata": {},
   "outputs": [
    {
     "data": {
      "text/plain": [
       "matrix([[0.        , 0.29907753, 0.        , ..., 0.12199621, 0.        ,\n",
       "         0.26771974],\n",
       "        [0.        , 0.        , 0.        , ..., 0.1728586 , 0.        ,\n",
       "         0.        ],\n",
       "        [0.25859916, 0.        , 0.        , ..., 0.18155927, 0.        ,\n",
       "         0.        ],\n",
       "        ...,\n",
       "        [0.        , 0.        , 0.        , ..., 0.13827813, 0.        ,\n",
       "         0.        ],\n",
       "        [0.        , 0.        , 0.        , ..., 0.38189009, 0.        ,\n",
       "         0.        ],\n",
       "        [0.        , 0.        , 0.        , ..., 0.14322813, 0.        ,\n",
       "         0.        ]])"
      ]
     },
     "execution_count": 7,
     "metadata": {},
     "output_type": "execute_result"
    }
   ],
   "source": [
    "transformed_data['text_train']"
   ]
  },
  {
   "cell_type": "markdown",
   "metadata": {},
   "source": [
    "### Hyparameters tuning\n",
    "\n",
    "Hyperparamethers tuning wil be made for RandomForestRegressor and GradientBoostingRegressor algorithms on a give input TF-IDF features and normalized target points variable."
   ]
  },
  {
   "cell_type": "code",
   "execution_count": 8,
   "metadata": {},
   "outputs": [],
   "source": [
    "def get_best_params(model, tuned_parameters, X_train, Y_train):\n",
    "    \"\"\"\n",
    "    Calculate cross validation score for different set of hyper parameters.\n",
    "    param model:             regression model\n",
    "    param tuned_parameters:  dict of tuning parameters for specified ML model\n",
    "    param X_train:           input features, pandas dataframe\n",
    "    param Y_train:           target continuus variable, pandas series\n",
    "    \"\"\"\n",
    "    \n",
    "    print(\"# Tuning hyper-parameters! \")\n",
    "    print()\n",
    "\n",
    "    clf = RandomizedSearchCV(estimator = model, param_distributions = tuned_parameters, cv = 3, n_jobs = -1)\n",
    "    clf.fit(X_train, Y_train)\n",
    "\n",
    "    print(\"Best parameters set found on development set:\")\n",
    "    print()\n",
    "    print(clf.best_params_)\n",
    "    print()\n",
    "    print(\"Grid scores on development set:\")\n",
    "    print()\n",
    "    means = clf.cv_results_['mean_test_score']\n",
    "    stds = clf.cv_results_['std_test_score']\n",
    "    for mean, std, params in zip(means, stds, clf.cv_results_['params']):\n",
    "        print(\"%0.3f (+/-%0.03f) for %r\"\n",
    "                % (mean, std * 2, params))\n",
    "    print()\n",
    "    \n",
    "    return clf.best_params_\n"
   ]
  },
  {
   "cell_type": "code",
   "execution_count": 11,
   "metadata": {},
   "outputs": [],
   "source": [
    "\n",
    "models = {\n",
    "    'gb': GradientBoostingRegressor(),\n",
    "    'rf': RandomForestRegressor()\n",
    "}\n",
    "\n",
    "# Create the random grid\n",
    "gb_params = {  \n",
    "               'loss': ['huber'],\n",
    "               'learning_rate': [0.1, 0.01],\n",
    "               'n_estimators': [50, 100, 150, 200],\n",
    "               'max_features': ['auto', 'sqrt'],\n",
    "               'max_depth': [3, 6, 9]\n",
    "           }\n",
    "\n",
    "rf_params = {   \n",
    "               'n_estimators': [int(x) for x in np.linspace(start = 100, stop = 500, num = 50)],\n",
    "               'max_features': ['auto', 'sqrt'],\n",
    "               'max_depth': [int(x) for x in np.linspace(10, 100, num = 20)],\n",
    "               'min_samples_split': [2, 5, 10],\n",
    "               'min_samples_leaf': [1, 2, 4],\n",
    "               'bootstrap': [True, False]\n",
    "           }\n"
   ]
  },
  {
   "cell_type": "markdown",
   "metadata": {},
   "source": [
    "Get best params for GradientBoostingRegressor model."
   ]
  },
  {
   "cell_type": "code",
   "execution_count": 10,
   "metadata": {},
   "outputs": [
    {
     "name": "stdout",
     "output_type": "stream",
     "text": [
      "# Tuning hyper-parameters! \n",
      "\n",
      "Best parameters set found on development set:\n",
      "\n",
      "{'n_estimators': 200, 'max_features': 'auto', 'max_depth': 9, 'loss': 'huber', 'learning_rate': 0.1}\n",
      "\n",
      "Grid scores on development set:\n",
      "\n",
      "0.246 (+/-0.002) for {'n_estimators': 200, 'max_features': 'sqrt', 'max_depth': 6, 'loss': 'huber', 'learning_rate': 0.01}\n",
      "0.181 (+/-0.002) for {'n_estimators': 100, 'max_features': 'auto', 'max_depth': 6, 'loss': 'huber', 'learning_rate': 0.01}\n",
      "0.388 (+/-0.003) for {'n_estimators': 200, 'max_features': 'auto', 'max_depth': 9, 'loss': 'huber', 'learning_rate': 0.1}\n",
      "0.265 (+/-0.002) for {'n_estimators': 150, 'max_features': 'auto', 'max_depth': 9, 'loss': 'huber', 'learning_rate': 0.01}\n",
      "0.294 (+/-0.003) for {'n_estimators': 200, 'max_features': 'auto', 'max_depth': 9, 'loss': 'huber', 'learning_rate': 0.01}\n",
      "0.352 (+/-0.002) for {'n_estimators': 200, 'max_features': 'auto', 'max_depth': 3, 'loss': 'huber', 'learning_rate': 0.1}\n",
      "0.225 (+/-0.002) for {'n_estimators': 150, 'max_features': 'auto', 'max_depth': 6, 'loss': 'huber', 'learning_rate': 0.01}\n",
      "0.381 (+/-0.003) for {'n_estimators': 100, 'max_features': 'auto', 'max_depth': 9, 'loss': 'huber', 'learning_rate': 0.1}\n",
      "0.144 (+/-0.002) for {'n_estimators': 50, 'max_features': 'auto', 'max_depth': 9, 'loss': 'huber', 'learning_rate': 0.01}\n",
      "0.359 (+/-0.003) for {'n_estimators': 100, 'max_features': 'sqrt', 'max_depth': 6, 'loss': 'huber', 'learning_rate': 0.1}\n",
      "\n"
     ]
    }
   ],
   "source": [
    "best_params = get_best_params(models['gb'], gb_params, transformed_data['text_train'], transformed_data['y_train'])"
   ]
  },
  {
   "cell_type": "markdown",
   "metadata": {},
   "source": [
    "Get best params for RandomForestRegressor model."
   ]
  },
  {
   "cell_type": "code",
   "execution_count": 13,
   "metadata": {},
   "outputs": [
    {
     "name": "stdout",
     "output_type": "stream",
     "text": [
      "# Tuning hyper-parameters! \n",
      "\n",
      "Best parameters set found on development set:\n",
      "\n",
      "{'n_estimators': 426, 'min_samples_split': 2, 'min_samples_leaf': 1, 'max_features': 'sqrt', 'max_depth': 66, 'bootstrap': True}\n",
      "\n",
      "Grid scores on development set:\n",
      "\n",
      "-0.111 (+/-0.021) for {'n_estimators': 255, 'min_samples_split': 2, 'min_samples_leaf': 2, 'max_features': 'auto', 'max_depth': 66, 'bootstrap': False}\n",
      "0.246 (+/-0.004) for {'n_estimators': 410, 'min_samples_split': 2, 'min_samples_leaf': 2, 'max_features': 'auto', 'max_depth': 10, 'bootstrap': True}\n",
      "0.381 (+/-0.003) for {'n_estimators': 491, 'min_samples_split': 5, 'min_samples_leaf': 1, 'max_features': 'sqrt', 'max_depth': 81, 'bootstrap': False}\n",
      "0.362 (+/-0.003) for {'n_estimators': 426, 'min_samples_split': 10, 'min_samples_leaf': 4, 'max_features': 'auto', 'max_depth': 95, 'bootstrap': True}\n",
      "0.342 (+/-0.004) for {'n_estimators': 255, 'min_samples_split': 2, 'min_samples_leaf': 4, 'max_features': 'auto', 'max_depth': 28, 'bootstrap': True}\n",
      "0.383 (+/-0.002) for {'n_estimators': 426, 'min_samples_split': 2, 'min_samples_leaf': 1, 'max_features': 'sqrt', 'max_depth': 66, 'bootstrap': True}\n",
      "0.179 (+/-0.011) for {'n_estimators': 222, 'min_samples_split': 10, 'min_samples_leaf': 4, 'max_features': 'auto', 'max_depth': 24, 'bootstrap': False}\n",
      "-0.111 (+/-0.020) for {'n_estimators': 140, 'min_samples_split': 2, 'min_samples_leaf': 2, 'max_features': 'auto', 'max_depth': 66, 'bootstrap': False}\n",
      "-0.014 (+/-0.022) for {'n_estimators': 467, 'min_samples_split': 5, 'min_samples_leaf': 4, 'max_features': 'auto', 'max_depth': 100, 'bootstrap': False}\n",
      "0.360 (+/-0.003) for {'n_estimators': 402, 'min_samples_split': 10, 'min_samples_leaf': 1, 'max_features': 'auto', 'max_depth': 57, 'bootstrap': True}\n",
      "\n"
     ]
    }
   ],
   "source": [
    "best_params_rf = get_best_params(models['rf'], rf_params, transformed_data['text_train'], transformed_data['y_train'])"
   ]
  },
  {
   "cell_type": "markdown",
   "metadata": {},
   "source": [
    "### Train"
   ]
  },
  {
   "cell_type": "markdown",
   "metadata": {},
   "source": [
    "#### Train GradientBoostingRegressor with best params"
   ]
  },
  {
   "cell_type": "code",
   "execution_count": 14,
   "metadata": {},
   "outputs": [
    {
     "data": {
      "text/plain": [
       "GradientBoostingRegressor(loss='huber', max_depth=9, max_features='auto',\n",
       "                          n_estimators=200)"
      ]
     },
     "execution_count": 14,
     "metadata": {},
     "output_type": "execute_result"
    }
   ],
   "source": [
    "gb = GradientBoostingRegressor(**best_params)\n",
    "gb.fit(transformed_data['text_train'], transformed_data['y_train'])"
   ]
  },
  {
   "cell_type": "markdown",
   "metadata": {},
   "source": [
    "#### Train RandomForestRegressor with best params"
   ]
  },
  {
   "cell_type": "code",
   "execution_count": 15,
   "metadata": {},
   "outputs": [
    {
     "data": {
      "text/plain": [
       "RandomForestRegressor(max_depth=66, max_features='sqrt', n_estimators=426,\n",
       "                      n_jobs=-1)"
      ]
     },
     "execution_count": 15,
     "metadata": {},
     "output_type": "execute_result"
    }
   ],
   "source": [
    "rf = RandomForestRegressor(n_jobs=-1, **best_params_rf)\n",
    "rf.fit(transformed_data['text_train'], transformed_data['y_train'])"
   ]
  },
  {
   "cell_type": "markdown",
   "metadata": {},
   "source": [
    "### Test"
   ]
  },
  {
   "cell_type": "markdown",
   "metadata": {},
   "source": [
    "#### Evaluate GradientBoostingRegressor with best params on test dataset."
   ]
  },
  {
   "cell_type": "markdown",
   "metadata": {},
   "source": [
    "Get mean absolute error between real and predicted values."
   ]
  },
  {
   "cell_type": "code",
   "execution_count": 16,
   "metadata": {},
   "outputs": [
    {
     "data": {
      "text/plain": [
       "2.359944773681273"
      ]
     },
     "execution_count": 16,
     "metadata": {},
     "output_type": "execute_result"
    }
   ],
   "source": [
    "y_real = transformed_data['scaler'].inverse_transform(transformed_data['y_test'].reshape(-1, 1))\n",
    "y_predict_gb = transformed_data['scaler'].inverse_transform(gb.predict(transformed_data['text_test']).reshape(-1, 1))\n",
    "\n",
    "mean_absolute_error(y_real, y_predict_gb)"
   ]
  },
  {
   "cell_type": "markdown",
   "metadata": {},
   "source": [
    "Get r2_score between real and predicted values."
   ]
  },
  {
   "cell_type": "code",
   "execution_count": 17,
   "metadata": {},
   "outputs": [
    {
     "data": {
      "text/plain": [
       "0.12739614189434256"
      ]
     },
     "execution_count": 17,
     "metadata": {},
     "output_type": "execute_result"
    }
   ],
   "source": [
    "r2_score(y_real, y_predict_gb)"
   ]
  },
  {
   "cell_type": "markdown",
   "metadata": {},
   "source": [
    "#### Evaluate RandomForestRegressor with best params on test dataset."
   ]
  },
  {
   "cell_type": "markdown",
   "metadata": {},
   "source": [
    "Get mean absolute error between real and predicted values."
   ]
  },
  {
   "cell_type": "code",
   "execution_count": 18,
   "metadata": {},
   "outputs": [
    {
     "data": {
      "text/plain": [
       "2.341356885979279"
      ]
     },
     "execution_count": 18,
     "metadata": {},
     "output_type": "execute_result"
    }
   ],
   "source": [
    "y_predict_rf = transformed_data['scaler'].inverse_transform(rf.predict(transformed_data['text_test']).reshape(-1, 1))\n",
    "\n",
    "mean_absolute_error(y_real, y_predict_rf)"
   ]
  },
  {
   "cell_type": "markdown",
   "metadata": {},
   "source": [
    "Get r2_score between real and predicted values."
   ]
  },
  {
   "cell_type": "code",
   "execution_count": 19,
   "metadata": {},
   "outputs": [
    {
     "data": {
      "text/plain": [
       "0.14539562880868007"
      ]
     },
     "execution_count": 19,
     "metadata": {},
     "output_type": "execute_result"
    }
   ],
   "source": [
    "r2_score(y_real, y_predict_rf)"
   ]
  },
  {
   "cell_type": "markdown",
   "metadata": {},
   "source": [
    "### Plot evaluation results"
   ]
  },
  {
   "cell_type": "code",
   "execution_count": 22,
   "metadata": {},
   "outputs": [],
   "source": [
    "estimators = {'GradientBoostingRegressor': \n",
    "              {\n",
    "                  'mae': mean_absolute_error(y_real, y_predict_gb),\n",
    "                  'r2_score': r2_score(y_real, y_predict_gb),\n",
    "                  'y_predict': y_predict_gb\n",
    "              }, \n",
    "              'RandomForestRegressor':\n",
    "              {\n",
    "                  'mae': mean_absolute_error(y_real, y_predict_rf),\n",
    "                  'r2_score': r2_score(y_real, y_predict_rf),\n",
    "                  'y_predict': y_predict_rf\n",
    "              }\n",
    "             }"
   ]
  },
  {
   "cell_type": "code",
   "execution_count": 23,
   "metadata": {},
   "outputs": [],
   "source": [
    "def plot_regression_results(ax, y_true, y_pred, title, scores):\n",
    "    \"\"\"Scatter plot of the predicted vs true targets. \"\"\"\n",
    "    \n",
    "    ax.plot([y_true.min(), y_true.max()],\n",
    "            [y_true.min(), y_true.max()],\n",
    "            '--r', linewidth=2)\n",
    "    ax.scatter(y_true, y_pred, alpha=0.2)\n",
    "\n",
    "    ax.spines['top'].set_visible(False)\n",
    "    ax.spines['right'].set_visible(False)\n",
    "    ax.get_xaxis().tick_bottom()\n",
    "    ax.get_yaxis().tick_left()\n",
    "    ax.spines['left'].set_position(('outward', 10))\n",
    "    ax.spines['bottom'].set_position(('outward', 10))\n",
    "    ax.set_xlim([y_true.min(), y_true.max()])\n",
    "    ax.set_ylim([y_true.min(), y_true.max()])\n",
    "    ax.set_xlabel('Measured')\n",
    "    ax.set_ylabel('Predicted')\n",
    "    extra = plt.Rectangle((0, 0), 0, 0, fc=\"w\", fill=False,\n",
    "                          edgecolor='none', linewidth=0)\n",
    "    ax.legend([extra], [scores], loc='upper left')\n",
    "    title = title\n",
    "    ax.set_title(title)"
   ]
  },
  {
   "cell_type": "code",
   "execution_count": 30,
   "metadata": {},
   "outputs": [
    {
     "data": {
      "image/png": "[encoded data removed]",
      "text/plain": [
       "<Figure size 648x504 with 2 Axes>"
      ]
     },
     "metadata": {
      "needs_background": "light"
     },
     "output_type": "display_data"
    }
   ],
   "source": [
    "fig, axs = plt.subplots(1, 2, figsize=(9, 7))\n",
    "axs = np.ravel(axs)\n",
    "\n",
    "for ax, name in zip(axs, list(estimators.keys())):\n",
    "    \n",
    "    plot_regression_results(\n",
    "        ax, y_real, estimators[name]['y_predict'],\n",
    "        name,\n",
    "        (r'r2_score={:.2f}' + '\\n' + r'mae={:.2f}')\n",
    "        .format(estimators[name]['r2_score'],\n",
    "                estimators[name]['mae']))\n",
    "\n",
    "plt.suptitle('Predictors comparison ')\n",
    "plt.tight_layout()\n",
    "plt.subplots_adjust(top=0.9)\n",
    "plt.show()"
   ]
  },
  {
   "cell_type": "markdown",
   "metadata": {},
   "source": [
    "### Conclusion"
   ]
  },
  {
   "cell_type": "markdown",
   "metadata": {},
   "source": [
    "- Both predictors show very poor performance on input dataset for TF-IDF feature encoding. \n",
    "\n",
    "- Mean absolute error is to big approximately 2.3 for both models. It's about 11.5% average error.\n",
    "\n",
    "- r2_score is near zero so our models does not explain any of the variation in the response variable around its mean."
   ]
  }
 ],
 "metadata": {
  "kernelspec": {
   "display_name": "Python 3",
   "language": "python",
   "name": "python3"
  },
  "language_info": {
   "codemirror_mode": {
    "name": "ipython",
    "version": 3
   },
   "file_extension": ".py",
   "mimetype": "text/x-python",
   "name": "python",
   "nbconvert_exporter": "python",
   "pygments_lexer": "ipython3",
   "version": "3.7.9"
  }
 },
 "nbformat": 4,
 "nbformat_minor": 5
}
